{
 "cells": [
  {
   "cell_type": "markdown",
   "metadata": {},
   "source": [
    "<center><h1>Fraud Detection</h1></center>"
   ]
  },
  {
   "cell_type": "markdown",
   "metadata": {},
   "source": [
    "**Fraud Detection**\n",
    "\n",
    "Our Tasks\n",
    "\n",
    "- Explore the dataset/Visualize\n",
    "- Decide which features are important (Feature Engineering)\n",
    "- Perform Machine Learning\n",
    "- Test the model on the testing set"
   ]
  },
  {
   "cell_type": "code",
   "execution_count": 2,
   "metadata": {},
   "outputs": [],
   "source": [
    "import numpy as np\n",
    "import sklearn as sk\n",
    "import pandas as pd\n",
    "import matplotlib.pyplot as plt\n",
    "from sklearn.preprocessing import scale\n",
    "import random"
   ]
  },
  {
   "cell_type": "code",
   "execution_count": 8,
   "metadata": {},
   "outputs": [
    {
     "data": {
      "text/html": [
       "<div>\n",
       "<style scoped>\n",
       "    .dataframe tbody tr th:only-of-type {\n",
       "        vertical-align: middle;\n",
       "    }\n",
       "\n",
       "    .dataframe tbody tr th {\n",
       "        vertical-align: top;\n",
       "    }\n",
       "\n",
       "    .dataframe thead th {\n",
       "        text-align: right;\n",
       "    }\n",
       "</style>\n",
       "<table border=\"1\" class=\"dataframe\">\n",
       "  <thead>\n",
       "    <tr style=\"text-align: right;\">\n",
       "      <th></th>\n",
       "      <th>Time</th>\n",
       "      <th>V1</th>\n",
       "      <th>V2</th>\n",
       "      <th>V3</th>\n",
       "      <th>V4</th>\n",
       "      <th>V5</th>\n",
       "      <th>V6</th>\n",
       "      <th>V7</th>\n",
       "      <th>V8</th>\n",
       "      <th>V9</th>\n",
       "      <th>...</th>\n",
       "      <th>V21</th>\n",
       "      <th>V22</th>\n",
       "      <th>V23</th>\n",
       "      <th>V24</th>\n",
       "      <th>V25</th>\n",
       "      <th>V26</th>\n",
       "      <th>V27</th>\n",
       "      <th>V28</th>\n",
       "      <th>Amount</th>\n",
       "      <th>Class</th>\n",
       "    </tr>\n",
       "  </thead>\n",
       "  <tbody>\n",
       "    <tr>\n",
       "      <th>284802</th>\n",
       "      <td>78186.0</td>\n",
       "      <td>-0.346412</td>\n",
       "      <td>1.211634</td>\n",
       "      <td>1.315178</td>\n",
       "      <td>0.052800</td>\n",
       "      <td>0.127785</td>\n",
       "      <td>-0.948610</td>\n",
       "      <td>0.809602</td>\n",
       "      <td>-0.145118</td>\n",
       "      <td>-0.584623</td>\n",
       "      <td>...</td>\n",
       "      <td>-0.247252</td>\n",
       "      <td>-0.587674</td>\n",
       "      <td>-0.020859</td>\n",
       "      <td>0.367797</td>\n",
       "      <td>-0.117136</td>\n",
       "      <td>0.067572</td>\n",
       "      <td>0.252458</td>\n",
       "      <td>0.101234</td>\n",
       "      <td>6.99</td>\n",
       "      <td>0</td>\n",
       "    </tr>\n",
       "    <tr>\n",
       "      <th>284803</th>\n",
       "      <td>56440.0</td>\n",
       "      <td>-0.399547</td>\n",
       "      <td>1.094109</td>\n",
       "      <td>1.171141</td>\n",
       "      <td>-0.190598</td>\n",
       "      <td>0.517747</td>\n",
       "      <td>0.016222</td>\n",
       "      <td>0.576096</td>\n",
       "      <td>0.184250</td>\n",
       "      <td>-0.768179</td>\n",
       "      <td>...</td>\n",
       "      <td>-0.197305</td>\n",
       "      <td>-0.450638</td>\n",
       "      <td>-0.054424</td>\n",
       "      <td>-0.335143</td>\n",
       "      <td>-0.190967</td>\n",
       "      <td>0.101608</td>\n",
       "      <td>0.264446</td>\n",
       "      <td>0.083088</td>\n",
       "      <td>0.89</td>\n",
       "      <td>0</td>\n",
       "    </tr>\n",
       "    <tr>\n",
       "      <th>284804</th>\n",
       "      <td>40919.0</td>\n",
       "      <td>-0.672507</td>\n",
       "      <td>0.844296</td>\n",
       "      <td>1.340050</td>\n",
       "      <td>-0.455950</td>\n",
       "      <td>0.849823</td>\n",
       "      <td>0.916872</td>\n",
       "      <td>-0.655597</td>\n",
       "      <td>-1.159652</td>\n",
       "      <td>-0.291889</td>\n",
       "      <td>...</td>\n",
       "      <td>1.335628</td>\n",
       "      <td>-1.124246</td>\n",
       "      <td>-0.480120</td>\n",
       "      <td>-0.667444</td>\n",
       "      <td>0.835974</td>\n",
       "      <td>0.203066</td>\n",
       "      <td>0.149077</td>\n",
       "      <td>0.160841</td>\n",
       "      <td>0.99</td>\n",
       "      <td>0</td>\n",
       "    </tr>\n",
       "    <tr>\n",
       "      <th>284805</th>\n",
       "      <td>33764.0</td>\n",
       "      <td>-1.196679</td>\n",
       "      <td>-3.650350</td>\n",
       "      <td>-1.231106</td>\n",
       "      <td>2.323713</td>\n",
       "      <td>-1.213752</td>\n",
       "      <td>0.054165</td>\n",
       "      <td>1.871940</td>\n",
       "      <td>-0.410797</td>\n",
       "      <td>-0.074795</td>\n",
       "      <td>...</td>\n",
       "      <td>0.741560</td>\n",
       "      <td>-0.490131</td>\n",
       "      <td>-1.207483</td>\n",
       "      <td>0.162506</td>\n",
       "      <td>0.307061</td>\n",
       "      <td>-0.363174</td>\n",
       "      <td>-0.209341</td>\n",
       "      <td>0.225871</td>\n",
       "      <td>1242.35</td>\n",
       "      <td>0</td>\n",
       "    </tr>\n",
       "    <tr>\n",
       "      <th>284806</th>\n",
       "      <td>152060.0</td>\n",
       "      <td>-1.581243</td>\n",
       "      <td>0.932641</td>\n",
       "      <td>0.504194</td>\n",
       "      <td>-3.364846</td>\n",
       "      <td>-0.200989</td>\n",
       "      <td>-1.241181</td>\n",
       "      <td>0.688765</td>\n",
       "      <td>-0.075035</td>\n",
       "      <td>1.788344</td>\n",
       "      <td>...</td>\n",
       "      <td>-0.239059</td>\n",
       "      <td>-0.200848</td>\n",
       "      <td>-0.014554</td>\n",
       "      <td>-0.102951</td>\n",
       "      <td>-0.445321</td>\n",
       "      <td>-0.912942</td>\n",
       "      <td>-0.613885</td>\n",
       "      <td>-0.496611</td>\n",
       "      <td>15.17</td>\n",
       "      <td>0</td>\n",
       "    </tr>\n",
       "  </tbody>\n",
       "</table>\n",
       "<p>5 rows × 31 columns</p>\n",
       "</div>"
      ],
      "text/plain": [
       "            Time        V1        V2        V3        V4        V5        V6  \\\n",
       "284802   78186.0 -0.346412  1.211634  1.315178  0.052800  0.127785 -0.948610   \n",
       "284803   56440.0 -0.399547  1.094109  1.171141 -0.190598  0.517747  0.016222   \n",
       "284804   40919.0 -0.672507  0.844296  1.340050 -0.455950  0.849823  0.916872   \n",
       "284805   33764.0 -1.196679 -3.650350 -1.231106  2.323713 -1.213752  0.054165   \n",
       "284806  152060.0 -1.581243  0.932641  0.504194 -3.364846 -0.200989 -1.241181   \n",
       "\n",
       "              V7        V8        V9  ...       V21       V22       V23  \\\n",
       "284802  0.809602 -0.145118 -0.584623  ... -0.247252 -0.587674 -0.020859   \n",
       "284803  0.576096  0.184250 -0.768179  ... -0.197305 -0.450638 -0.054424   \n",
       "284804 -0.655597 -1.159652 -0.291889  ...  1.335628 -1.124246 -0.480120   \n",
       "284805  1.871940 -0.410797 -0.074795  ...  0.741560 -0.490131 -1.207483   \n",
       "284806  0.688765 -0.075035  1.788344  ... -0.239059 -0.200848 -0.014554   \n",
       "\n",
       "             V24       V25       V26       V27       V28   Amount  Class  \n",
       "284802  0.367797 -0.117136  0.067572  0.252458  0.101234     6.99      0  \n",
       "284803 -0.335143 -0.190967  0.101608  0.264446  0.083088     0.89      0  \n",
       "284804 -0.667444  0.835974  0.203066  0.149077  0.160841     0.99      0  \n",
       "284805  0.162506  0.307061 -0.363174 -0.209341  0.225871  1242.35      0  \n",
       "284806 -0.102951 -0.445321 -0.912942 -0.613885 -0.496611    15.17      0  \n",
       "\n",
       "[5 rows x 31 columns]"
      ]
     },
     "execution_count": 8,
     "metadata": {},
     "output_type": "execute_result"
    }
   ],
   "source": [
    "df = pd.read_csv(\"creditcard.csv\", low_memory=False)\n",
    "df = df.sample(frac=1).reset_index(drop=True)\n",
    "df.tail()"
   ]
  },
  {
   "cell_type": "code",
   "execution_count": 6,
   "metadata": {},
   "outputs": [
    {
     "name": "stdout",
     "output_type": "stream",
     "text": [
      "492\n",
      "284315\n"
     ]
    }
   ],
   "source": [
    "fraud = df.loc[df['Class'] == 1]\n",
    "non_fraud = df.loc[df['Class'] == 0]\n",
    "print(len(fraud))\n",
    "print(len(non_fraud))"
   ]
  },
  {
   "cell_type": "code",
   "execution_count": 7,
   "metadata": {},
   "outputs": [
    {
     "data": {
      "image/png": "[encoded data removed]",
      "text/plain": [
       "<Figure size 432x288 with 1 Axes>"
      ]
     },
     "metadata": {
      "needs_background": "light"
     },
     "output_type": "display_data"
    }
   ],
   "source": [
    "ax = fraud.plot.scatter(x = 'Amount', y = 'Class', color = 'Orange', label = 'Fraud')\n",
    "\n",
    "non_fraud.plot.scatter(x = 'Amount', y = 'Class', color = 'Blue', label = 'Normal', ax = ax)\n",
    "\n",
    "plt.show()"
   ]
  },
  {
   "cell_type": "code",
   "execution_count": 9,
   "metadata": {},
   "outputs": [],
   "source": [
    "# Machine Learning Time\n",
    "\n",
    "from sklearn import linear_model\n",
    "from sklearn.model_selection import train_test_split"
   ]
  },
  {
   "cell_type": "code",
   "execution_count": 11,
   "metadata": {},
   "outputs": [],
   "source": [
    "x = df.iloc[:, :-1]\n",
    "y = df['Class']\n",
    "\n",
    "X_train, X_test, y_train, y_test = train_test_split(x, y, test_size=0.35)"
   ]
  },
  {
   "cell_type": "code",
   "execution_count": 13,
   "metadata": {},
   "outputs": [
    {
     "name": "stderr",
     "output_type": "stream",
     "text": [
      "C:\\ProgramData\\Anaconda3\\lib\\site-packages\\sklearn\\linear_model\\logistic.py:432: FutureWarning: Default solver will be changed to 'lbfgs' in 0.22. Specify a solver to silence this warning.\n",
      "  FutureWarning)\n"
     ]
    },
    {
     "name": "stdout",
     "output_type": "stream",
     "text": [
      "Score: 0.9990469789231865\n"
     ]
    }
   ],
   "source": [
    "logistic = linear_model.LogisticRegression(C=1e5)\n",
    "logistic.fit(X_train, y_train)\n",
    "print('Score:', logistic.score(X_test, y_test))"
   ]
  },
  {
   "cell_type": "code",
   "execution_count": 14,
   "metadata": {},
   "outputs": [
    {
     "name": "stdout",
     "output_type": "stream",
     "text": [
      "[0 0 0 ... 0 0 0]\n"
     ]
    }
   ],
   "source": [
    "y_predicted = np.array(logistic.predict(X_test))\n",
    "print(y_predicted)"
   ]
  },
  {
   "cell_type": "code",
   "execution_count": null,
   "metadata": {},
   "outputs": [],
   "source": []
  }
 ],
 "metadata": {
  "kernelspec": {
   "display_name": "Python 3",
   "language": "python",
   "name": "python3"
  },
  "language_info": {
   "codemirror_mode": {
    "name": "ipython",
    "version": 3
   },
   "file_extension": ".py",
   "mimetype": "text/x-python",
   "name": "python",
   "nbconvert_exporter": "python",
   "pygments_lexer": "ipython3",
   "version": "3.7.3"
  }
 },
 "nbformat": 4,
 "nbformat_minor": 2
}
