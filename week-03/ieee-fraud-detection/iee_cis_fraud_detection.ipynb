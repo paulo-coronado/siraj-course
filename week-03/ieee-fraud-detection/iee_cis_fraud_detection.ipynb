{
 "cells": [
  {
   "cell_type": "markdown",
   "metadata": {},
   "source": [
    "<center><h1>IEEE-CIS Fraud Detection</center></h1>"
   ]
  },
  {
   "cell_type": "markdown",
   "metadata": {},
   "source": [
    "## Goal\n",
    "\n",
    "In this project we are predicting the probability that an online transaction is fraudulent, as denoted by the binary target isFraud.\n",
    "\n",
    "The data is broken into two files identity and transaction, which are joined by TransactionID. Not all transactions have corresponding identity information.\n",
    "\n",
    "\n",
    "## Data Mining Methodology\n",
    "\n",
    "Once we are facing several lines of data, following a methodology helps us to be agile and work efficiently.\n",
    "\n",
    "### CRISP-DM\n",
    "\n",
    "- **Data Preparation**\n",
    "    - Joining tables\n",
    "    - Missing values handling\n",
    "    - Dimensionallity reduction\n",
    "    - Feature selection\n",
    "    - Outlier removal\n",
    "    - Normalization\n",
    "    - Partitioning\n",
    "- **Model Training** (linear/logistic regression)\n",
    "- **Model Optimization**\n",
    "    - Regularization\n",
    "    - Parameter Optimization\n",
    "- **Model Evaluation**\n",
    "    - Performance Measures\n",
    "    - Accuracy\n",
    "    - ROC Curve\n",
    "    - Cross-Validation\n",
    "- Tuning with AutoML?\n",
    "- **Deployment** (future versions...)\n"
   ]
  },
  {
   "cell_type": "markdown",
   "metadata": {},
   "source": [
    "## Libraries and Dependencies Import"
   ]
  },
  {
   "cell_type": "code",
   "execution_count": 1,
   "metadata": {},
   "outputs": [],
   "source": [
    "import numpy as np\n",
    "import sklearn as sk\n",
    "import pandas as pd\n",
    "import matplotlib.pyplot as plt\n",
    "import missingno as msno\n",
    "\n",
    "from scipy import stats\n",
    "from sklearn import preprocessing\n",
    "from sklearn import linear_model\n",
    "from sklearn.model_selection import train_test_split"
   ]
  },
  {
   "cell_type": "code",
   "execution_count": 2,
   "metadata": {},
   "outputs": [
    {
     "name": "stdout",
     "output_type": "stream",
     "text": [
      "1.14.0\n"
     ]
    },
    {
     "name": "stderr",
     "output_type": "stream",
     "text": [
      "Using TensorFlow backend.\n"
     ]
    }
   ],
   "source": [
    "import tensorflow as tf\n",
    "\n",
    "from tensorflow import keras\n",
    "from keras.models import Sequential\n",
    "from keras.layers import Dense\n",
    "from keras.utils.np_utils import to_categorical\n",
    "\n",
    "print(tf.__version__)"
   ]
  },
  {
   "cell_type": "markdown",
   "metadata": {},
   "source": [
    "## Data Collection"
   ]
  },
  {
   "cell_type": "code",
   "execution_count": 3,
   "metadata": {
    "scrolled": true
   },
   "outputs": [
    {
     "data": {
      "text/html": [
       "<div>\n",
       "<style scoped>\n",
       "    .dataframe tbody tr th:only-of-type {\n",
       "        vertical-align: middle;\n",
       "    }\n",
       "\n",
       "    .dataframe tbody tr th {\n",
       "        vertical-align: top;\n",
       "    }\n",
       "\n",
       "    .dataframe thead th {\n",
       "        text-align: right;\n",
       "    }\n",
       "</style>\n",
       "<table border=\"1\" class=\"dataframe\">\n",
       "  <thead>\n",
       "    <tr style=\"text-align: right;\">\n",
       "      <th></th>\n",
       "      <th>TransactionID</th>\n",
       "      <th>id_01</th>\n",
       "      <th>id_02</th>\n",
       "      <th>id_03</th>\n",
       "      <th>id_04</th>\n",
       "      <th>id_05</th>\n",
       "      <th>id_06</th>\n",
       "      <th>id_07</th>\n",
       "      <th>id_08</th>\n",
       "      <th>id_09</th>\n",
       "      <th>...</th>\n",
       "      <th>id_31</th>\n",
       "      <th>id_32</th>\n",
       "      <th>id_33</th>\n",
       "      <th>id_34</th>\n",
       "      <th>id_35</th>\n",
       "      <th>id_36</th>\n",
       "      <th>id_37</th>\n",
       "      <th>id_38</th>\n",
       "      <th>DeviceType</th>\n",
       "      <th>DeviceInfo</th>\n",
       "    </tr>\n",
       "  </thead>\n",
       "  <tbody>\n",
       "    <tr>\n",
       "      <th>144228</th>\n",
       "      <td>3289162</td>\n",
       "      <td>-25.0</td>\n",
       "      <td>479269.0</td>\n",
       "      <td>NaN</td>\n",
       "      <td>NaN</td>\n",
       "      <td>0.0</td>\n",
       "      <td>-9.0</td>\n",
       "      <td>NaN</td>\n",
       "      <td>NaN</td>\n",
       "      <td>NaN</td>\n",
       "      <td>...</td>\n",
       "      <td>mobile safari generic</td>\n",
       "      <td>NaN</td>\n",
       "      <td>NaN</td>\n",
       "      <td>NaN</td>\n",
       "      <td>F</td>\n",
       "      <td>F</td>\n",
       "      <td>F</td>\n",
       "      <td>F</td>\n",
       "      <td>mobile</td>\n",
       "      <td>NaN</td>\n",
       "    </tr>\n",
       "    <tr>\n",
       "      <th>144229</th>\n",
       "      <td>3527931</td>\n",
       "      <td>-5.0</td>\n",
       "      <td>802927.0</td>\n",
       "      <td>NaN</td>\n",
       "      <td>NaN</td>\n",
       "      <td>0.0</td>\n",
       "      <td>0.0</td>\n",
       "      <td>NaN</td>\n",
       "      <td>NaN</td>\n",
       "      <td>NaN</td>\n",
       "      <td>...</td>\n",
       "      <td>chrome 66.0 for android</td>\n",
       "      <td>NaN</td>\n",
       "      <td>NaN</td>\n",
       "      <td>NaN</td>\n",
       "      <td>F</td>\n",
       "      <td>F</td>\n",
       "      <td>T</td>\n",
       "      <td>F</td>\n",
       "      <td>mobile</td>\n",
       "      <td>Moto E (4) Build/NMA26.42-69</td>\n",
       "    </tr>\n",
       "    <tr>\n",
       "      <th>144230</th>\n",
       "      <td>3363204</td>\n",
       "      <td>-5.0</td>\n",
       "      <td>145161.0</td>\n",
       "      <td>NaN</td>\n",
       "      <td>NaN</td>\n",
       "      <td>0.0</td>\n",
       "      <td>0.0</td>\n",
       "      <td>NaN</td>\n",
       "      <td>NaN</td>\n",
       "      <td>NaN</td>\n",
       "      <td>...</td>\n",
       "      <td>chrome generic</td>\n",
       "      <td>24.0</td>\n",
       "      <td>1920x1080</td>\n",
       "      <td>match_status:2</td>\n",
       "      <td>T</td>\n",
       "      <td>F</td>\n",
       "      <td>T</td>\n",
       "      <td>F</td>\n",
       "      <td>mobile</td>\n",
       "      <td>SAMSUNG-SM-N900A Build/LRX21V</td>\n",
       "    </tr>\n",
       "    <tr>\n",
       "      <th>144231</th>\n",
       "      <td>3333298</td>\n",
       "      <td>-5.0</td>\n",
       "      <td>303664.0</td>\n",
       "      <td>0.0</td>\n",
       "      <td>0.0</td>\n",
       "      <td>0.0</td>\n",
       "      <td>-12.0</td>\n",
       "      <td>NaN</td>\n",
       "      <td>NaN</td>\n",
       "      <td>0.0</td>\n",
       "      <td>...</td>\n",
       "      <td>chrome 64.0</td>\n",
       "      <td>NaN</td>\n",
       "      <td>NaN</td>\n",
       "      <td>NaN</td>\n",
       "      <td>F</td>\n",
       "      <td>F</td>\n",
       "      <td>T</td>\n",
       "      <td>F</td>\n",
       "      <td>desktop</td>\n",
       "      <td>Windows</td>\n",
       "    </tr>\n",
       "    <tr>\n",
       "      <th>144232</th>\n",
       "      <td>3027751</td>\n",
       "      <td>0.0</td>\n",
       "      <td>52588.0</td>\n",
       "      <td>0.0</td>\n",
       "      <td>0.0</td>\n",
       "      <td>5.0</td>\n",
       "      <td>0.0</td>\n",
       "      <td>NaN</td>\n",
       "      <td>NaN</td>\n",
       "      <td>0.0</td>\n",
       "      <td>...</td>\n",
       "      <td>safari generic</td>\n",
       "      <td>24.0</td>\n",
       "      <td>1280x800</td>\n",
       "      <td>match_status:2</td>\n",
       "      <td>T</td>\n",
       "      <td>T</td>\n",
       "      <td>T</td>\n",
       "      <td>T</td>\n",
       "      <td>desktop</td>\n",
       "      <td>MacOS</td>\n",
       "    </tr>\n",
       "  </tbody>\n",
       "</table>\n",
       "<p>5 rows × 41 columns</p>\n",
       "</div>"
      ],
      "text/plain": [
       "        TransactionID  id_01     id_02  id_03  id_04  id_05  id_06  id_07  \\\n",
       "144228        3289162  -25.0  479269.0    NaN    NaN    0.0   -9.0    NaN   \n",
       "144229        3527931   -5.0  802927.0    NaN    NaN    0.0    0.0    NaN   \n",
       "144230        3363204   -5.0  145161.0    NaN    NaN    0.0    0.0    NaN   \n",
       "144231        3333298   -5.0  303664.0    0.0    0.0    0.0  -12.0    NaN   \n",
       "144232        3027751    0.0   52588.0    0.0    0.0    5.0    0.0    NaN   \n",
       "\n",
       "        id_08  id_09  ...                    id_31  id_32      id_33  \\\n",
       "144228    NaN    NaN  ...    mobile safari generic    NaN        NaN   \n",
       "144229    NaN    NaN  ...  chrome 66.0 for android    NaN        NaN   \n",
       "144230    NaN    NaN  ...           chrome generic   24.0  1920x1080   \n",
       "144231    NaN    0.0  ...              chrome 64.0    NaN        NaN   \n",
       "144232    NaN    0.0  ...           safari generic   24.0   1280x800   \n",
       "\n",
       "                 id_34  id_35 id_36 id_37  id_38  DeviceType  \\\n",
       "144228             NaN      F     F     F      F      mobile   \n",
       "144229             NaN      F     F     T      F      mobile   \n",
       "144230  match_status:2      T     F     T      F      mobile   \n",
       "144231             NaN      F     F     T      F     desktop   \n",
       "144232  match_status:2      T     T     T      T     desktop   \n",
       "\n",
       "                           DeviceInfo  \n",
       "144228                            NaN  \n",
       "144229   Moto E (4) Build/NMA26.42-69  \n",
       "144230  SAMSUNG-SM-N900A Build/LRX21V  \n",
       "144231                        Windows  \n",
       "144232                          MacOS  \n",
       "\n",
       "[5 rows x 41 columns]"
      ]
     },
     "execution_count": 3,
     "metadata": {},
     "output_type": "execute_result"
    }
   ],
   "source": [
    "df_train_transaction = pd.read_csv(\"train_transaction.csv\", low_memory=False)\n",
    "df_train_identity = pd.read_csv(\"train_identity.csv\", low_memory=False)\n",
    "    \n",
    "df_train_transaction = df_train_transaction.sample(frac=1).reset_index(drop=True)\n",
    "df_train_identity = df_train_identity.sample(frac=1).reset_index(drop=True)\n",
    "\n",
    "df_train_identity.tail()"
   ]
  },
  {
   "cell_type": "code",
   "execution_count": 4,
   "metadata": {},
   "outputs": [
    {
     "data": {
      "text/html": [
       "<div>\n",
       "<style scoped>\n",
       "    .dataframe tbody tr th:only-of-type {\n",
       "        vertical-align: middle;\n",
       "    }\n",
       "\n",
       "    .dataframe tbody tr th {\n",
       "        vertical-align: top;\n",
       "    }\n",
       "\n",
       "    .dataframe thead th {\n",
       "        text-align: right;\n",
       "    }\n",
       "</style>\n",
       "<table border=\"1\" class=\"dataframe\">\n",
       "  <thead>\n",
       "    <tr style=\"text-align: right;\">\n",
       "      <th></th>\n",
       "      <th>TransactionID</th>\n",
       "      <th>id_01</th>\n",
       "      <th>id_02</th>\n",
       "      <th>id_03</th>\n",
       "      <th>id_04</th>\n",
       "      <th>id_05</th>\n",
       "      <th>id_06</th>\n",
       "      <th>id_07</th>\n",
       "      <th>id_08</th>\n",
       "      <th>id_09</th>\n",
       "      <th>...</th>\n",
       "      <th>id_31</th>\n",
       "      <th>id_32</th>\n",
       "      <th>id_33</th>\n",
       "      <th>id_34</th>\n",
       "      <th>id_35</th>\n",
       "      <th>id_36</th>\n",
       "      <th>id_37</th>\n",
       "      <th>id_38</th>\n",
       "      <th>DeviceType</th>\n",
       "      <th>DeviceInfo</th>\n",
       "    </tr>\n",
       "  </thead>\n",
       "  <tbody>\n",
       "    <tr>\n",
       "      <th>141902</th>\n",
       "      <td>4013879</td>\n",
       "      <td>-5.0</td>\n",
       "      <td>136578.0</td>\n",
       "      <td>NaN</td>\n",
       "      <td>NaN</td>\n",
       "      <td>0.0</td>\n",
       "      <td>0.0</td>\n",
       "      <td>NaN</td>\n",
       "      <td>NaN</td>\n",
       "      <td>NaN</td>\n",
       "      <td>...</td>\n",
       "      <td>chrome 70.0 for android</td>\n",
       "      <td>NaN</td>\n",
       "      <td>NaN</td>\n",
       "      <td>NaN</td>\n",
       "      <td>F</td>\n",
       "      <td>F</td>\n",
       "      <td>T</td>\n",
       "      <td>F</td>\n",
       "      <td>mobile</td>\n",
       "      <td>ANE-LX3</td>\n",
       "    </tr>\n",
       "    <tr>\n",
       "      <th>141903</th>\n",
       "      <td>4059928</td>\n",
       "      <td>-5.0</td>\n",
       "      <td>46258.0</td>\n",
       "      <td>NaN</td>\n",
       "      <td>NaN</td>\n",
       "      <td>0.0</td>\n",
       "      <td>-1.0</td>\n",
       "      <td>NaN</td>\n",
       "      <td>NaN</td>\n",
       "      <td>NaN</td>\n",
       "      <td>...</td>\n",
       "      <td>mobile safari 12.0</td>\n",
       "      <td>32.0</td>\n",
       "      <td>2436x1125</td>\n",
       "      <td>match_status:2</td>\n",
       "      <td>T</td>\n",
       "      <td>F</td>\n",
       "      <td>F</td>\n",
       "      <td>T</td>\n",
       "      <td>mobile</td>\n",
       "      <td>iOS Device</td>\n",
       "    </tr>\n",
       "    <tr>\n",
       "      <th>141904</th>\n",
       "      <td>3943546</td>\n",
       "      <td>-20.0</td>\n",
       "      <td>367175.0</td>\n",
       "      <td>0.0</td>\n",
       "      <td>0.0</td>\n",
       "      <td>7.0</td>\n",
       "      <td>0.0</td>\n",
       "      <td>NaN</td>\n",
       "      <td>NaN</td>\n",
       "      <td>0.0</td>\n",
       "      <td>...</td>\n",
       "      <td>chrome 70.0 for android</td>\n",
       "      <td>NaN</td>\n",
       "      <td>NaN</td>\n",
       "      <td>NaN</td>\n",
       "      <td>F</td>\n",
       "      <td>F</td>\n",
       "      <td>T</td>\n",
       "      <td>F</td>\n",
       "      <td>mobile</td>\n",
       "      <td>LG-D331</td>\n",
       "    </tr>\n",
       "    <tr>\n",
       "      <th>141905</th>\n",
       "      <td>3943571</td>\n",
       "      <td>-5.0</td>\n",
       "      <td>411948.0</td>\n",
       "      <td>NaN</td>\n",
       "      <td>NaN</td>\n",
       "      <td>0.0</td>\n",
       "      <td>0.0</td>\n",
       "      <td>NaN</td>\n",
       "      <td>NaN</td>\n",
       "      <td>NaN</td>\n",
       "      <td>...</td>\n",
       "      <td>chrome 70.0 for android</td>\n",
       "      <td>NaN</td>\n",
       "      <td>NaN</td>\n",
       "      <td>NaN</td>\n",
       "      <td>F</td>\n",
       "      <td>F</td>\n",
       "      <td>T</td>\n",
       "      <td>F</td>\n",
       "      <td>mobile</td>\n",
       "      <td>SM-A605GN</td>\n",
       "    </tr>\n",
       "    <tr>\n",
       "      <th>141906</th>\n",
       "      <td>3972314</td>\n",
       "      <td>-5.0</td>\n",
       "      <td>16786.0</td>\n",
       "      <td>0.0</td>\n",
       "      <td>0.0</td>\n",
       "      <td>0.0</td>\n",
       "      <td>0.0</td>\n",
       "      <td>NaN</td>\n",
       "      <td>NaN</td>\n",
       "      <td>0.0</td>\n",
       "      <td>...</td>\n",
       "      <td>chrome 70.0</td>\n",
       "      <td>24.0</td>\n",
       "      <td>1440x900</td>\n",
       "      <td>match_status:2</td>\n",
       "      <td>T</td>\n",
       "      <td>F</td>\n",
       "      <td>T</td>\n",
       "      <td>F</td>\n",
       "      <td>desktop</td>\n",
       "      <td>MacOS</td>\n",
       "    </tr>\n",
       "  </tbody>\n",
       "</table>\n",
       "<p>5 rows × 41 columns</p>\n",
       "</div>"
      ],
      "text/plain": [
       "        TransactionID  id_01     id_02  id_03  id_04  id_05  id_06  id_07  \\\n",
       "141902        4013879   -5.0  136578.0    NaN    NaN    0.0    0.0    NaN   \n",
       "141903        4059928   -5.0   46258.0    NaN    NaN    0.0   -1.0    NaN   \n",
       "141904        3943546  -20.0  367175.0    0.0    0.0    7.0    0.0    NaN   \n",
       "141905        3943571   -5.0  411948.0    NaN    NaN    0.0    0.0    NaN   \n",
       "141906        3972314   -5.0   16786.0    0.0    0.0    0.0    0.0    NaN   \n",
       "\n",
       "        id_08  id_09  ...                    id_31  id_32      id_33  \\\n",
       "141902    NaN    NaN  ...  chrome 70.0 for android    NaN        NaN   \n",
       "141903    NaN    NaN  ...       mobile safari 12.0   32.0  2436x1125   \n",
       "141904    NaN    0.0  ...  chrome 70.0 for android    NaN        NaN   \n",
       "141905    NaN    NaN  ...  chrome 70.0 for android    NaN        NaN   \n",
       "141906    NaN    0.0  ...              chrome 70.0   24.0   1440x900   \n",
       "\n",
       "                 id_34  id_35 id_36 id_37  id_38  DeviceType  DeviceInfo  \n",
       "141902             NaN      F     F     T      F      mobile     ANE-LX3  \n",
       "141903  match_status:2      T     F     F      T      mobile  iOS Device  \n",
       "141904             NaN      F     F     T      F      mobile     LG-D331  \n",
       "141905             NaN      F     F     T      F      mobile   SM-A605GN  \n",
       "141906  match_status:2      T     F     T      F     desktop       MacOS  \n",
       "\n",
       "[5 rows x 41 columns]"
      ]
     },
     "execution_count": 4,
     "metadata": {},
     "output_type": "execute_result"
    }
   ],
   "source": [
    "df_test_transaction = pd.read_csv(\"test_transaction.csv\", low_memory=False)\n",
    "df_test_identity = pd.read_csv(\"test_identity.csv\", low_memory=False)\n",
    "    \n",
    "df_test_transaction = df_test_transaction.sample(frac=1).reset_index(drop=True)\n",
    "df_test_identity = df_test_identity.sample(frac=1).reset_index(drop=True)\n",
    "\n",
    "df_test_identity.tail()"
   ]
  },
  {
   "cell_type": "markdown",
   "metadata": {},
   "source": [
    "## Tables Merging"
   ]
  },
  {
   "cell_type": "code",
   "execution_count": 5,
   "metadata": {},
   "outputs": [
    {
     "name": "stdout",
     "output_type": "stream",
     "text": [
      "(590540, 434)\n",
      "(506691, 433)\n"
     ]
    }
   ],
   "source": [
    "df_train = pd.merge(df_train_transaction, df_train_identity, on='TransactionID', how='left')\n",
    "df_test = pd.merge(df_test_transaction, df_test_identity, on='TransactionID', how='left')\n",
    "\n",
    "print(df_train.shape)\n",
    "print(df_test.shape)"
   ]
  },
  {
   "cell_type": "markdown",
   "metadata": {},
   "source": [
    "At this point we conclude that are are MANY features representing our data. Let's investigate how many have NaN values assigned."
   ]
  },
  {
   "cell_type": "code",
   "execution_count": 6,
   "metadata": {},
   "outputs": [
    {
     "data": {
      "text/plain": [
       "<matplotlib.axes._subplots.AxesSubplot at 0x15980060358>"
      ]
     },
     "execution_count": 6,
     "metadata": {},
     "output_type": "execute_result"
    },
    {
     "data": {
      "image/png": "[encoded data removed]",
      "text/plain": [
       "<Figure size 1728x720 with 2 Axes>"
      ]
     },
     "metadata": {
      "needs_background": "light"
     },
     "output_type": "display_data"
    }
   ],
   "source": [
    "msno.bar(df_train)"
   ]
  },
  {
   "cell_type": "markdown",
   "metadata": {},
   "source": [
    "In this chart, the maximum value (1) represents that all samples are assigned with a value. Therefore, we see that there are many features with null values associated. Let's remove them and then, assign the median for the rest of the NaN values."
   ]
  },
  {
   "cell_type": "markdown",
   "metadata": {},
   "source": [
    "## Missing Values Handling\n",
    "\n",
    "Let's find the rate of NaN values in each feature and then remove it if the rate is higher than 20%."
   ]
  },
  {
   "cell_type": "code",
   "execution_count": 7,
   "metadata": {},
   "outputs": [],
   "source": [
    "train_missing = df_train.isnull().sum() / len(df_train)\n",
    "df_train_missing = pd.DataFrame({'column_name': df_train.columns,\n",
    "                                 'missing_percent': train_missing})"
   ]
  },
  {
   "cell_type": "markdown",
   "metadata": {},
   "source": [
    "Now that we have all the features NaN rate, let's print them if the rate is above 20%."
   ]
  },
  {
   "cell_type": "code",
   "execution_count": 8,
   "metadata": {},
   "outputs": [
    {
     "data": {
      "text/plain": [
       "array(['dist1', 'dist2', 'R_emaildomain', 'D2', 'D3', 'D4', 'D5', 'D6',\n",
       "       'D7', 'D8', 'D9', 'D11', 'D12', 'D13', 'D14', 'M1', 'M2', 'M3',\n",
       "       'M4', 'M5', 'M6', 'M7', 'M8', 'M9', 'V1', 'V2', 'V3', 'V4', 'V5',\n",
       "       'V6', 'V7', 'V8', 'V9', 'V10', 'V11', 'V35', 'V36', 'V37', 'V38',\n",
       "       'V39', 'V40', 'V41', 'V42', 'V43', 'V44', 'V45', 'V46', 'V47',\n",
       "       'V48', 'V49', 'V50', 'V51', 'V52', 'V138', 'V139', 'V140', 'V141',\n",
       "       'V142', 'V143', 'V144', 'V145', 'V146', 'V147', 'V148', 'V149',\n",
       "       'V150', 'V151', 'V152', 'V153', 'V154', 'V155', 'V156', 'V157',\n",
       "       'V158', 'V159', 'V160', 'V161', 'V162', 'V163', 'V164', 'V165',\n",
       "       'V166', 'V167', 'V168', 'V169', 'V170', 'V171', 'V172', 'V173',\n",
       "       'V174', 'V175', 'V176', 'V177', 'V178', 'V179', 'V180', 'V181',\n",
       "       'V182', 'V183', 'V184', 'V185', 'V186', 'V187', 'V188', 'V189',\n",
       "       'V190', 'V191', 'V192', 'V193', 'V194', 'V195', 'V196', 'V197',\n",
       "       'V198', 'V199', 'V200', 'V201', 'V202', 'V203', 'V204', 'V205',\n",
       "       'V206', 'V207', 'V208', 'V209', 'V210', 'V211', 'V212', 'V213',\n",
       "       'V214', 'V215', 'V216', 'V217', 'V218', 'V219', 'V220', 'V221',\n",
       "       'V222', 'V223', 'V224', 'V225', 'V226', 'V227', 'V228', 'V229',\n",
       "       'V230', 'V231', 'V232', 'V233', 'V234', 'V235', 'V236', 'V237',\n",
       "       'V238', 'V239', 'V240', 'V241', 'V242', 'V243', 'V244', 'V245',\n",
       "       'V246', 'V247', 'V248', 'V249', 'V250', 'V251', 'V252', 'V253',\n",
       "       'V254', 'V255', 'V256', 'V257', 'V258', 'V259', 'V260', 'V261',\n",
       "       'V262', 'V263', 'V264', 'V265', 'V266', 'V267', 'V268', 'V269',\n",
       "       'V270', 'V271', 'V272', 'V273', 'V274', 'V275', 'V276', 'V277',\n",
       "       'V278', 'V322', 'V323', 'V324', 'V325', 'V326', 'V327', 'V328',\n",
       "       'V329', 'V330', 'V331', 'V332', 'V333', 'V334', 'V335', 'V336',\n",
       "       'V337', 'V338', 'V339', 'id_01', 'id_02', 'id_03', 'id_04',\n",
       "       'id_05', 'id_06', 'id_07', 'id_08', 'id_09', 'id_10', 'id_11',\n",
       "       'id_12', 'id_13', 'id_14', 'id_15', 'id_16', 'id_17', 'id_18',\n",
       "       'id_19', 'id_20', 'id_21', 'id_22', 'id_23', 'id_24', 'id_25',\n",
       "       'id_26', 'id_27', 'id_28', 'id_29', 'id_30', 'id_31', 'id_32',\n",
       "       'id_33', 'id_34', 'id_35', 'id_36', 'id_37', 'id_38', 'DeviceType',\n",
       "       'DeviceInfo'], dtype=object)"
      ]
     },
     "execution_count": 8,
     "metadata": {},
     "output_type": "execute_result"
    }
   ],
   "source": [
    "df_rm_features_train = df_train_missing[df_train_missing['missing_percent'] > 0.2]  \n",
    "rm_features_train = df_rm_features_train['column_name'].values\n",
    "rm_features_train"
   ]
  },
  {
   "cell_type": "markdown",
   "metadata": {},
   "source": [
    "And remove them from train and test dataset."
   ]
  },
  {
   "cell_type": "code",
   "execution_count": 9,
   "metadata": {},
   "outputs": [
    {
     "name": "stdout",
     "output_type": "stream",
     "text": [
      "Training data shape (590540, 182)\n",
      "Testing data shape (506691, 181)\n"
     ]
    }
   ],
   "source": [
    "df_train = df_train.drop(rm_features_train, axis=1)\n",
    "print('Training data shape', df_train.shape)\n",
    "\n",
    "df_test = df_test.drop(rm_features_train, axis=1)\n",
    "print('Testing data shape', df_test.shape)"
   ]
  },
  {
   "cell_type": "markdown",
   "metadata": {},
   "source": [
    "Let's check the results for the training and testing data, and check if there is still any unsatisfactory feature."
   ]
  },
  {
   "cell_type": "code",
   "execution_count": 10,
   "metadata": {},
   "outputs": [
    {
     "data": {
      "text/plain": [
       "<matplotlib.axes._subplots.AxesSubplot at 0x159806c4b70>"
      ]
     },
     "execution_count": 10,
     "metadata": {},
     "output_type": "execute_result"
    },
    {
     "data": {
      "image/png": "[encoded data removed]",
      "text/plain": [
       "<Figure size 1728x720 with 2 Axes>"
      ]
     },
     "metadata": {
      "needs_background": "light"
     },
     "output_type": "display_data"
    }
   ],
   "source": [
    "msno.bar(df_train)"
   ]
  },
  {
   "cell_type": "code",
   "execution_count": 11,
   "metadata": {},
   "outputs": [
    {
     "data": {
      "text/plain": [
       "<matplotlib.axes._subplots.AxesSubplot at 0x159813aa978>"
      ]
     },
     "execution_count": 11,
     "metadata": {},
     "output_type": "execute_result"
    },
    {
     "data": {
      "image/png": "[encoded data removed]",
      "text/plain": [
       "<Figure size 1728x720 with 2 Axes>"
      ]
     },
     "metadata": {
      "needs_background": "light"
     },
     "output_type": "display_data"
    }
   ],
   "source": [
    "msno.bar(df_test)"
   ]
  },
  {
   "cell_type": "markdown",
   "metadata": {},
   "source": [
    "Seems like most of the missing were removed. Now, let's insert the median of each feature for the rest of NaN values present on the data.\n",
    "\n",
    "However, it is important to notice that **not** every features is numerical. Let's guarantee every feature is numerical and not categorical."
   ]
  },
  {
   "cell_type": "code",
   "execution_count": 12,
   "metadata": {},
   "outputs": [
    {
     "name": "stdout",
     "output_type": "stream",
     "text": [
      "TRAINING SET Numerical Features:  [0, 1, 2, 3, 5, 6, 7, 9, 11, 12, 14, 15, 16, 17, 18, 19, 20, 21, 22, 23, 24, 25, 26, 27, 28, 29, 30, 31, 32, 33, 34, 35, 36, 37, 38, 39, 40, 41, 42, 43, 44, 45, 46, 47, 48, 49, 50, 51, 52, 53, 54, 55, 56, 57, 58, 59, 60, 61, 62, 63, 64, 65, 66, 67, 68, 69, 70, 71, 72, 73, 74, 75, 76, 77, 78, 79, 80, 81, 82, 83, 84, 85, 86, 87, 88, 89, 90, 91, 92, 93, 94, 95, 96, 97, 98, 99, 100, 101, 102, 103, 104, 105, 106, 107, 108, 109, 110, 111, 112, 113, 114, 115, 116, 117, 118, 119, 120, 121, 122, 123, 124, 125, 126, 127, 128, 129, 130, 131, 132, 133, 134, 135, 136, 137, 138, 139, 140, 141, 142, 143, 144, 145, 146, 147, 148, 149, 150, 151, 152, 153, 154, 155, 156, 157, 158, 159, 160, 161, 162, 163, 164, 165, 166, 167, 168, 169, 170, 171, 172, 173, 174, 175, 176, 177, 178, 179, 180, 181]\n",
      "TRAINING SET Categorical Features:  [4, 8, 10, 13]\n"
     ]
    },
    {
     "data": {
      "text/plain": [
       "<matplotlib.axes._subplots.AxesSubplot at 0x1598155fcf8>"
      ]
     },
     "execution_count": 12,
     "metadata": {},
     "output_type": "execute_result"
    },
    {
     "data": {
      "image/png": "[encoded data removed]",
      "text/plain": [
       "<Figure size 1728x720 with 2 Axes>"
      ]
     },
     "metadata": {
      "needs_background": "light"
     },
     "output_type": "display_data"
    }
   ],
   "source": [
    "train_types = df_train.dtypes.values\n",
    "numericalFeaturesIndex = []\n",
    "categoricalFeaturesIndex = []\n",
    "\n",
    "n = 0\n",
    "c = 0\n",
    "\n",
    "for featureType in train_types:\n",
    "    if featureType == 'int64' or featureType == 'float64':\n",
    "        numericalFeaturesIndex.append(n)\n",
    "        df_train.iloc[:, n] = df_train.iloc[:, n].fillna(df_train.iloc[:, n].median())\n",
    "    else:\n",
    "        categoricalFeaturesIndex.append(c)\n",
    "        df_train.iloc[:, c] = df_train.iloc[:, c].fillna(df_train.iloc[:, c].mode().item())\n",
    "    \n",
    "    n = n + 1\n",
    "    c = c + 1\n",
    "\n",
    "print('TRAINING SET Numerical Features: ', numericalFeaturesIndex)\n",
    "print('TRAINING SET Categorical Features: ', categoricalFeaturesIndex)\n",
    "    \n",
    "msno.bar(df_train)"
   ]
  },
  {
   "cell_type": "code",
   "execution_count": 13,
   "metadata": {},
   "outputs": [
    {
     "name": "stdout",
     "output_type": "stream",
     "text": [
      "TESTING SET Numerical Features:  [0, 1, 2, 4, 5, 6, 8, 10, 11, 13, 14, 15, 16, 17, 18, 19, 20, 21, 22, 23, 24, 25, 26, 27, 28, 29, 30, 31, 32, 33, 34, 35, 36, 37, 38, 39, 40, 41, 42, 43, 44, 45, 46, 47, 48, 49, 50, 51, 52, 53, 54, 55, 56, 57, 58, 59, 60, 61, 62, 63, 64, 65, 66, 67, 68, 69, 70, 71, 72, 73, 74, 75, 76, 77, 78, 79, 80, 81, 82, 83, 84, 85, 86, 87, 88, 89, 90, 91, 92, 93, 94, 95, 96, 97, 98, 99, 100, 101, 102, 103, 104, 105, 106, 107, 108, 109, 110, 111, 112, 113, 114, 115, 116, 117, 118, 119, 120, 121, 122, 123, 124, 125, 126, 127, 128, 129, 130, 131, 132, 133, 134, 135, 136, 137, 138, 139, 140, 141, 142, 143, 144, 145, 146, 147, 148, 149, 150, 151, 152, 153, 154, 155, 156, 157, 158, 159, 160, 161, 162, 163, 164, 165, 166, 167, 168, 169, 170, 171, 172, 173, 174, 175, 176, 177, 178, 179, 180]\n",
      "TESTING SET Categorical Features:  [3, 7, 9, 12]\n"
     ]
    },
    {
     "data": {
      "text/plain": [
       "<matplotlib.axes._subplots.AxesSubplot at 0x159821a8748>"
      ]
     },
     "execution_count": 13,
     "metadata": {},
     "output_type": "execute_result"
    },
    {
     "data": {
      "image/png": "[encoded data removed]",
      "text/plain": [
       "<Figure size 1728x720 with 2 Axes>"
      ]
     },
     "metadata": {
      "needs_background": "light"
     },
     "output_type": "display_data"
    }
   ],
   "source": [
    "test_types = df_test.dtypes.values\n",
    "numericalFeaturesIndex = []\n",
    "categoricalFeaturesIndex = []\n",
    "\n",
    "n = 0\n",
    "c = 0\n",
    "\n",
    "for featureType in test_types:\n",
    "    if featureType == 'int64' or featureType == 'float64':\n",
    "        numericalFeaturesIndex.append(n)\n",
    "        df_test.iloc[:, n] = df_test.iloc[:, n].fillna(df_test.iloc[:, n].median())\n",
    "    else:\n",
    "        categoricalFeaturesIndex.append(c)\n",
    "        df_test.iloc[:, c] = df_test.iloc[:, c].fillna(df_test.iloc[:, c].mode().item())\n",
    "    \n",
    "    n = n + 1\n",
    "    c = c + 1\n",
    "\n",
    "print('TESTING SET Numerical Features: ', numericalFeaturesIndex)\n",
    "print('TESTING SET Categorical Features: ', categoricalFeaturesIndex)\n",
    "\n",
    "msno.bar(df_train)"
   ]
  },
  {
   "cell_type": "code",
   "execution_count": 14,
   "metadata": {},
   "outputs": [],
   "source": [
    "y_train = df_train['isFraud'].values\n",
    "df_train_numerical = df_train[df_train.columns.difference(['isFraud', 'TransactionID', 'TransactionDT', 'ProductCD', 'card4', 'card6', 'P_emaildomain'])]\n",
    "df_train_categorical = df_train[['ProductCD', 'card4', 'card6', 'P_emaildomain']]\n",
    "\n",
    "df_test_numerical = df_test[df_test.columns.difference(['TransactionID', 'TransactionDT', 'ProductCD', 'card4', 'card6', 'P_emaildomain'])]\n",
    "df_test_categorical = df_test[['ProductCD', 'card4', 'card6', 'P_emaildomain']]"
   ]
  },
  {
   "cell_type": "markdown",
   "metadata": {},
   "source": [
    "One-Hot-Enconding for categorical features.\n",
    "\n",
    "Scaling + PCA for numerical features."
   ]
  },
  {
   "cell_type": "code",
   "execution_count": 15,
   "metadata": {},
   "outputs": [
    {
     "name": "stdout",
     "output_type": "stream",
     "text": [
      "df_train_categorical: (590540, 72)\n",
      "df_test_categorical: (506691, 72)\n"
     ]
    }
   ],
   "source": [
    "# One-Hot-Encoding\n",
    "df_train_categorical = pd.get_dummies(df_train_categorical, prefix=['ProductCD', 'card4', 'card6', 'P_emaildomain'])\n",
    "print('df_train_categorical:', df_train_categorical.shape)\n",
    "\n",
    "df_test_categorical = pd.get_dummies(df_test_categorical, prefix=['ProductCD', 'card4', 'card6', 'P_emaildomain'])\n",
    "print('df_test_categorical:', df_test_categorical.shape)"
   ]
  },
  {
   "cell_type": "code",
   "execution_count": 16,
   "metadata": {},
   "outputs": [],
   "source": [
    "# Feature Scaling\n",
    "X_train_numerical = preprocessing.scale(df_train_numerical)\n",
    "\n",
    "X_test_numerical = preprocessing.scale(df_test_numerical)"
   ]
  },
  {
   "cell_type": "code",
   "execution_count": 17,
   "metadata": {},
   "outputs": [
    {
     "name": "stdout",
     "output_type": "stream",
     "text": [
      "X_train: (590540, 247)\n",
      "X_test: (506691, 247)\n"
     ]
    }
   ],
   "source": [
    "# Append tables to a single numpy array\n",
    "X_train = np.concatenate((X_train_numerical, df_train_categorical.values), axis=1)\n",
    "\n",
    "X_test = np.concatenate((X_test_numerical, df_test_categorical.values), axis=1)\n",
    "\n",
    "print('X_train:', X_train.shape)\n",
    "print('X_test:', X_test.shape)"
   ]
  },
  {
   "cell_type": "markdown",
   "metadata": {},
   "source": [
    "## Logistic Regression Approach"
   ]
  },
  {
   "cell_type": "code",
   "execution_count": 19,
   "metadata": {},
   "outputs": [
    {
     "name": "stderr",
     "output_type": "stream",
     "text": [
      "C:\\ProgramData\\Anaconda3\\lib\\site-packages\\sklearn\\linear_model\\logistic.py:432: FutureWarning: Default solver will be changed to 'lbfgs' in 0.22. Specify a solver to silence this warning.\n",
      "  FutureWarning)\n",
      "C:\\ProgramData\\Anaconda3\\lib\\site-packages\\sklearn\\svm\\base.py:929: ConvergenceWarning: Liblinear failed to converge, increase the number of iterations.\n",
      "  \"the number of iterations.\", ConvergenceWarning)\n"
     ]
    },
    {
     "name": "stdout",
     "output_type": "stream",
     "text": [
      "Score: 0.9688341638847227\n"
     ]
    }
   ],
   "source": [
    "X_train, X_val, y_train, y_val = train_test_split(X_train, y_train, test_size=0.3, random_state=42)\n",
    "\n",
    "logistic = linear_model.LogisticRegression(C=1e5)\n",
    "logistic.fit(X_train, y_train)\n",
    "print('Score:', logistic.score(X_val, y_val))"
   ]
  },
  {
   "cell_type": "code",
   "execution_count": 21,
   "metadata": {},
   "outputs": [
    {
     "name": "stdout",
     "output_type": "stream",
     "text": [
      "[0 0 0 ... 0 0 0]\n"
     ]
    }
   ],
   "source": [
    "y_predicted = np.array(logistic.predict(X_test))\n",
    "print(y_predicted)"
   ]
  },
  {
   "cell_type": "code",
   "execution_count": 23,
   "metadata": {},
   "outputs": [
    {
     "data": {
      "text/plain": [
       "{0: 485429, 1: 21262}"
      ]
     },
     "execution_count": 23,
     "metadata": {},
     "output_type": "execute_result"
    }
   ],
   "source": [
    "df_submit = pd.DataFrame({'TransactionID': df_test['TransactionID'], 'isFraud': y_predicted.reshape(-1)})\n",
    "unique, counts = np.unique(df_submit['isFraud'], return_counts=True)\n",
    "dict(zip(unique, counts))"
   ]
  },
  {
   "cell_type": "code",
   "execution_count": 24,
   "metadata": {},
   "outputs": [],
   "source": [
    "df_submit.to_csv(r'ml_submission.csv', index=False)"
   ]
  },
  {
   "cell_type": "markdown",
   "metadata": {},
   "source": [
    "## Deep Learning Approach"
   ]
  },
  {
   "cell_type": "code",
   "execution_count": 33,
   "metadata": {},
   "outputs": [],
   "source": [
    "model = Sequential()\n",
    "\n",
    "model.add(Dense(units=16, activation='relu', input_dim=X_train.shape[1]))\n",
    "model.add(Dense(units=8, activation='relu'))\n",
    "model.add(Dense(units=1, activation='sigmoid'))"
   ]
  },
  {
   "cell_type": "code",
   "execution_count": 34,
   "metadata": {},
   "outputs": [],
   "source": [
    "model.compile(loss='binary_crossentropy',\n",
    "              optimizer='sgd',\n",
    "              metrics=['accuracy'])"
   ]
  },
  {
   "cell_type": "code",
   "execution_count": 35,
   "metadata": {},
   "outputs": [
    {
     "name": "stdout",
     "output_type": "stream",
     "text": [
      "Train on 289364 samples, validate on 124014 samples\n",
      "Epoch 1/30\n",
      "289364/289364 [==============================] - 5s 16us/step - loss: 0.8757 - acc: 0.2696 - val_loss: 0.8488 - val_acc: 0.3161\n",
      "Epoch 2/30\n",
      "289364/289364 [==============================] - 2s 6us/step - loss: 0.8433 - acc: 0.3250 - val_loss: 0.8184 - val_acc: 0.3718\n",
      "Epoch 3/30\n",
      "289364/289364 [==============================] - 2s 6us/step - loss: 0.8134 - acc: 0.3814 - val_loss: 0.7903 - val_acc: 0.4269\n",
      "Epoch 4/30\n",
      "289364/289364 [==============================] - 2s 8us/step - loss: 0.7856 - acc: 0.4371 - val_loss: 0.7642 - val_acc: 0.4792\n",
      "Epoch 5/30\n",
      "289364/289364 [==============================] - 3s 9us/step - loss: 0.7598 - acc: 0.4892 - val_loss: 0.7398 - val_acc: 0.5286\n",
      "Epoch 6/30\n",
      "289364/289364 [==============================] - 2s 8us/step - loss: 0.7356 - acc: 0.5367 - val_loss: 0.7169 - val_acc: 0.5708\n",
      "Epoch 7/30\n",
      "289364/289364 [==============================] - 2s 6us/step - loss: 0.7130 - acc: 0.5782 - val_loss: 0.6955 - val_acc: 0.6072\n",
      "Epoch 8/30\n",
      "289364/289364 [==============================] - 2s 7us/step - loss: 0.6917 - acc: 0.6147 - val_loss: 0.6751 - val_acc: 0.6405\n",
      "Epoch 9/30\n",
      "289364/289364 [==============================] - 2s 8us/step - loss: 0.6715 - acc: 0.6477 - val_loss: 0.6559 - val_acc: 0.6704\n",
      "Epoch 10/30\n",
      "289364/289364 [==============================] - 2s 8us/step - loss: 0.6524 - acc: 0.6771 - val_loss: 0.6376 - val_acc: 0.6978\n",
      "Epoch 11/30\n",
      "289364/289364 [==============================] - 2s 6us/step - loss: 0.6343 - acc: 0.7037 - val_loss: 0.6202 - val_acc: 0.7270\n",
      "Epoch 12/30\n",
      "289364/289364 [==============================] - 2s 6us/step - loss: 0.6170 - acc: 0.7324 - val_loss: 0.6036 - val_acc: 0.7522\n",
      "Epoch 13/30\n",
      "289364/289364 [==============================] - 2s 6us/step - loss: 0.6005 - acc: 0.7577 - val_loss: 0.5878 - val_acc: 0.7771\n",
      "Epoch 14/30\n",
      "289364/289364 [==============================] - 2s 6us/step - loss: 0.5848 - acc: 0.7823 - val_loss: 0.5726 - val_acc: 0.8015\n",
      "Epoch 15/30\n",
      "289364/289364 [==============================] - 2s 6us/step - loss: 0.5697 - acc: 0.8056 - val_loss: 0.5581 - val_acc: 0.8212\n",
      "Epoch 16/30\n",
      "289364/289364 [==============================] - 2s 6us/step - loss: 0.5552 - acc: 0.8254 - val_loss: 0.5441 - val_acc: 0.8409\n",
      "Epoch 17/30\n",
      "289364/289364 [==============================] - 2s 6us/step - loss: 0.5414 - acc: 0.8447 - val_loss: 0.5307 - val_acc: 0.8565\n",
      "Epoch 18/30\n",
      "289364/289364 [==============================] - 2s 6us/step - loss: 0.5281 - acc: 0.8604 - val_loss: 0.5179 - val_acc: 0.8689\n",
      "Epoch 19/30\n",
      "289364/289364 [==============================] - 2s 6us/step - loss: 0.5153 - acc: 0.8728 - val_loss: 0.5056 - val_acc: 0.8795\n",
      "Epoch 20/30\n",
      "289364/289364 [==============================] - 2s 6us/step - loss: 0.5030 - acc: 0.8828 - val_loss: 0.4937 - val_acc: 0.8878\n",
      "Epoch 21/30\n",
      "289364/289364 [==============================] - 2s 6us/step - loss: 0.4912 - acc: 0.8911 - val_loss: 0.4823 - val_acc: 0.8958\n",
      "Epoch 22/30\n",
      "289364/289364 [==============================] - 2s 6us/step - loss: 0.4798 - acc: 0.8988 - val_loss: 0.4713 - val_acc: 0.9026\n",
      "Epoch 23/30\n",
      "289364/289364 [==============================] - 2s 6us/step - loss: 0.4689 - acc: 0.9055 - val_loss: 0.4607 - val_acc: 0.9091\n",
      "Epoch 24/30\n",
      "289364/289364 [==============================] - 2s 6us/step - loss: 0.4584 - acc: 0.9119 - val_loss: 0.4505 - val_acc: 0.9139\n",
      "Epoch 25/30\n",
      "289364/289364 [==============================] - 2s 6us/step - loss: 0.4482 - acc: 0.9166 - val_loss: 0.4407 - val_acc: 0.9179\n",
      "Epoch 26/30\n",
      "289364/289364 [==============================] - 2s 6us/step - loss: 0.4385 - acc: 0.9206 - val_loss: 0.4312 - val_acc: 0.9216\n",
      "Epoch 27/30\n",
      "289364/289364 [==============================] - 2s 6us/step - loss: 0.4290 - acc: 0.9239 - val_loss: 0.4221 - val_acc: 0.9248\n",
      "Epoch 28/30\n",
      "289364/289364 [==============================] - 2s 7us/step - loss: 0.4200 - acc: 0.9268 - val_loss: 0.4133 - val_acc: 0.9277\n",
      "Epoch 29/30\n",
      "289364/289364 [==============================] - 2s 6us/step - loss: 0.4112 - acc: 0.9294 - val_loss: 0.4049 - val_acc: 0.9301\n",
      "Epoch 30/30\n",
      "289364/289364 [==============================] - 2s 6us/step - loss: 0.4028 - acc: 0.9318 - val_loss: 0.3967 - val_acc: 0.9322\n"
     ]
    }
   ],
   "source": [
    "history = model.fit(X_train, y_train, epochs=50, batch_size=200000, validation_data=(X_val, y_val))"
   ]
  },
  {
   "cell_type": "code",
   "execution_count": 36,
   "metadata": {},
   "outputs": [
    {
     "data": {
      "image/png": "[encoded data removed]",
      "text/plain": [
       "<Figure size 432x288 with 1 Axes>"
      ]
     },
     "metadata": {
      "needs_background": "light"
     },
     "output_type": "display_data"
    },
    {
     "data": {
      "image/png": "[encoded data removed]",
      "text/plain": [
       "<Figure size 432x288 with 1 Axes>"
      ]
     },
     "metadata": {
      "needs_background": "light"
     },
     "output_type": "display_data"
    }
   ],
   "source": [
    "# Salva treinamento na variável history para visualização\n",
    "history_dict = history.history\n",
    "\n",
    "# Salva custos, métricas e epocas em vetores\n",
    "custo = history_dict['loss']\n",
    "acc = history_dict['acc']\n",
    "val_custo = history_dict['val_loss']\n",
    "val_acc = history_dict['val_acc']\n",
    "\n",
    "# Cria vetor de épocas\n",
    "epocas = range(1, len(custo) + 1)\n",
    "\n",
    "# Gráfico dos valores de custo\n",
    "plt.plot(epocas, custo, 'bo', label='Training Loss')\n",
    "plt.plot(epocas, val_custo, 'b', label='Validation Loss')\n",
    "plt.title('Loss Function – Training and Validation')\n",
    "plt.xlabel('Epochs')\n",
    "plt.ylabel('Loss')\n",
    "plt.legend()\n",
    "plt.show()\n",
    "\n",
    "# Gráfico dos valores da métrica\n",
    "plt.plot(epocas, acc, 'bo', label='Training Accuracy')\n",
    "plt.plot(epocas, val_acc, 'b', label='Validation Accuracy')\n",
    "plt.title('Metric – Training and Validation')\n",
    "plt.xlabel('Epochs')\n",
    "plt.ylabel('Accuracy')\n",
    "plt.legend()\n",
    "plt.show()"
   ]
  },
  {
   "cell_type": "code",
   "execution_count": 37,
   "metadata": {},
   "outputs": [
    {
     "name": "stdout",
     "output_type": "stream",
     "text": [
      "289364/289364 [==============================] - 7s 23us/step\n",
      "124014/124014 [==============================] - 3s 26us/step\n",
      "[0.395871985651747, 0.9335473659457402]\n",
      "[0.39670553050107027, 0.9322253939071395]\n"
     ]
    }
   ],
   "source": [
    "# Usando o método evaluate calcula o custo e a exatidão e depois apresenta os resultados\n",
    "loss_metrics_train = model.evaluate(X_train, y_train)\n",
    "loss_metrics_val = model.evaluate(X_val, y_val)\n",
    "print(loss_metrics_train)\n",
    "print(loss_metrics_val)"
   ]
  },
  {
   "cell_type": "code",
   "execution_count": 38,
   "metadata": {},
   "outputs": [],
   "source": [
    "y_pred = model.predict_classes(X_test, batch_size=200000, verbose=0)"
   ]
  },
  {
   "cell_type": "code",
   "execution_count": 39,
   "metadata": {},
   "outputs": [
    {
     "data": {
      "text/plain": [
       "{0: 481294, 1: 25397}"
      ]
     },
     "execution_count": 39,
     "metadata": {},
     "output_type": "execute_result"
    }
   ],
   "source": [
    "df_submit = pd.DataFrame({'TransactionID': df_test['TransactionID'], 'isFraud': y_pred.reshape(-1)})\n",
    "unique, counts = np.unique(df_submit['isFraud'], return_counts=True)\n",
    "dict(zip(unique, counts))"
   ]
  },
  {
   "cell_type": "code",
   "execution_count": null,
   "metadata": {},
   "outputs": [],
   "source": [
    "df_submit.to_csv(r'submission.csv', index=False)"
   ]
  }
 ],
 "metadata": {
  "kernelspec": {
   "display_name": "Python 3",
   "language": "python",
   "name": "python3"
  },
  "language_info": {
   "codemirror_mode": {
    "name": "ipython",
    "version": 3
   },
   "file_extension": ".py",
   "mimetype": "text/x-python",
   "name": "python",
   "nbconvert_exporter": "python",
   "pygments_lexer": "ipython3",
   "version": "3.7.3"
  }
 },
 "nbformat": 4,
 "nbformat_minor": 2
}
