{
 "cells": [
  {
   "cell_type": "markdown",
   "metadata": {},
   "source": [
    "<center><h1>IEEE-CIS Fraud Detection</center></h1>"
   ]
  },
  {
   "cell_type": "markdown",
   "metadata": {},
   "source": [
    "## Goal\n",
    "\n",
    "In this project we are predicting the probability that an online transaction is fraudulent, as denoted by the binary target isFraud.\n",
    "\n",
    "The data is broken into two files identity and transaction, which are joined by TransactionID. Not all transactions have corresponding identity information.\n",
    "\n",
    "\n",
    "## Data Mining Methodology\n",
    "\n",
    "Once we are facing several lines of data, following a methodology helps us to be agile and work efficiently.\n",
    "\n",
    "### CRISP-DM\n",
    "\n",
    "- **Data Preparation**\n",
    "    - Joining tables\n",
    "    - Missing values handling\n",
    "    - Dimensionallity reduction\n",
    "    - Feature selection\n",
    "    - Outlier removal\n",
    "    - Normalization\n",
    "    - Partitioning\n",
    "- **Model Training** (linear/logistic regression)\n",
    "- **Model Optimization**\n",
    "    - Regularization\n",
    "    - Parameter Optimization\n",
    "- **Model Evaluation**\n",
    "    - Performance Measures\n",
    "    - Accuracy\n",
    "    - ROC Curve\n",
    "    - Cross-Validation\n",
    "- Tuning with AutoML?\n",
    "- **Deployment** (future versions...)\n"
   ]
  },
  {
   "cell_type": "markdown",
   "metadata": {},
   "source": [
    "## Libraries and Dependencies Import"
   ]
  },
  {
   "cell_type": "code",
   "execution_count": 1,
   "metadata": {},
   "outputs": [],
   "source": [
    "import numpy as np\n",
    "import sklearn as sk\n",
    "import pandas as pd\n",
    "import matplotlib.pyplot as plt\n",
    "import missingno as msno\n",
    "\n",
    "from scipy import stats\n",
    "from sklearn import preprocessing\n",
    "from sklearn import linear_model\n",
    "from sklearn.model_selection import train_test_split\n",
    "from sklearn.utils import class_weight\n",
    "from sklearn.metrics import roc_curve,roc_auc_score"
   ]
  },
  {
   "cell_type": "code",
   "execution_count": 2,
   "metadata": {},
   "outputs": [
    {
     "name": "stdout",
     "output_type": "stream",
     "text": [
      "1.14.0\n"
     ]
    },
    {
     "name": "stderr",
     "output_type": "stream",
     "text": [
      "Using TensorFlow backend.\n"
     ]
    }
   ],
   "source": [
    "import tensorflow as tf\n",
    "\n",
    "from tensorflow import keras\n",
    "from keras.models import Sequential\n",
    "from keras.layers import Dense\n",
    "from keras import optimizers\n",
    "from keras.utils.np_utils import to_categorical\n",
    "\n",
    "print(tf.__version__)"
   ]
  },
  {
   "cell_type": "markdown",
   "metadata": {},
   "source": [
    "## Data Collection"
   ]
  },
  {
   "cell_type": "code",
   "execution_count": 3,
   "metadata": {
    "scrolled": true
   },
   "outputs": [
    {
     "data": {
      "text/html": [
       "<div>\n",
       "<style scoped>\n",
       "    .dataframe tbody tr th:only-of-type {\n",
       "        vertical-align: middle;\n",
       "    }\n",
       "\n",
       "    .dataframe tbody tr th {\n",
       "        vertical-align: top;\n",
       "    }\n",
       "\n",
       "    .dataframe thead th {\n",
       "        text-align: right;\n",
       "    }\n",
       "</style>\n",
       "<table border=\"1\" class=\"dataframe\">\n",
       "  <thead>\n",
       "    <tr style=\"text-align: right;\">\n",
       "      <th></th>\n",
       "      <th>TransactionID</th>\n",
       "      <th>id_01</th>\n",
       "      <th>id_02</th>\n",
       "      <th>id_03</th>\n",
       "      <th>id_04</th>\n",
       "      <th>id_05</th>\n",
       "      <th>id_06</th>\n",
       "      <th>id_07</th>\n",
       "      <th>id_08</th>\n",
       "      <th>id_09</th>\n",
       "      <th>...</th>\n",
       "      <th>id_31</th>\n",
       "      <th>id_32</th>\n",
       "      <th>id_33</th>\n",
       "      <th>id_34</th>\n",
       "      <th>id_35</th>\n",
       "      <th>id_36</th>\n",
       "      <th>id_37</th>\n",
       "      <th>id_38</th>\n",
       "      <th>DeviceType</th>\n",
       "      <th>DeviceInfo</th>\n",
       "    </tr>\n",
       "  </thead>\n",
       "  <tbody>\n",
       "    <tr>\n",
       "      <th>144228</th>\n",
       "      <td>3265429</td>\n",
       "      <td>-20.0</td>\n",
       "      <td>177354.0</td>\n",
       "      <td>0.0</td>\n",
       "      <td>0.0</td>\n",
       "      <td>0.0</td>\n",
       "      <td>-5.0</td>\n",
       "      <td>NaN</td>\n",
       "      <td>NaN</td>\n",
       "      <td>0.0</td>\n",
       "      <td>...</td>\n",
       "      <td>chrome 64.0 for android</td>\n",
       "      <td>NaN</td>\n",
       "      <td>NaN</td>\n",
       "      <td>NaN</td>\n",
       "      <td>F</td>\n",
       "      <td>F</td>\n",
       "      <td>T</td>\n",
       "      <td>F</td>\n",
       "      <td>mobile</td>\n",
       "      <td>SM-G955F Build/NRD90M</td>\n",
       "    </tr>\n",
       "    <tr>\n",
       "      <th>144229</th>\n",
       "      <td>3374914</td>\n",
       "      <td>-5.0</td>\n",
       "      <td>108520.0</td>\n",
       "      <td>NaN</td>\n",
       "      <td>NaN</td>\n",
       "      <td>0.0</td>\n",
       "      <td>-8.0</td>\n",
       "      <td>NaN</td>\n",
       "      <td>NaN</td>\n",
       "      <td>0.0</td>\n",
       "      <td>...</td>\n",
       "      <td>chrome 64.0</td>\n",
       "      <td>24.0</td>\n",
       "      <td>1366x768</td>\n",
       "      <td>match_status:2</td>\n",
       "      <td>T</td>\n",
       "      <td>F</td>\n",
       "      <td>T</td>\n",
       "      <td>F</td>\n",
       "      <td>desktop</td>\n",
       "      <td>Windows</td>\n",
       "    </tr>\n",
       "    <tr>\n",
       "      <th>144230</th>\n",
       "      <td>3052377</td>\n",
       "      <td>0.0</td>\n",
       "      <td>52022.0</td>\n",
       "      <td>NaN</td>\n",
       "      <td>NaN</td>\n",
       "      <td>0.0</td>\n",
       "      <td>0.0</td>\n",
       "      <td>NaN</td>\n",
       "      <td>NaN</td>\n",
       "      <td>NaN</td>\n",
       "      <td>...</td>\n",
       "      <td>firefox 57.0</td>\n",
       "      <td>24.0</td>\n",
       "      <td>1366x768</td>\n",
       "      <td>match_status:2</td>\n",
       "      <td>T</td>\n",
       "      <td>T</td>\n",
       "      <td>T</td>\n",
       "      <td>T</td>\n",
       "      <td>desktop</td>\n",
       "      <td>Windows</td>\n",
       "    </tr>\n",
       "    <tr>\n",
       "      <th>144231</th>\n",
       "      <td>3456925</td>\n",
       "      <td>-15.0</td>\n",
       "      <td>395230.0</td>\n",
       "      <td>0.0</td>\n",
       "      <td>0.0</td>\n",
       "      <td>9.0</td>\n",
       "      <td>-30.0</td>\n",
       "      <td>NaN</td>\n",
       "      <td>NaN</td>\n",
       "      <td>0.0</td>\n",
       "      <td>...</td>\n",
       "      <td>chrome 65.0 for android</td>\n",
       "      <td>NaN</td>\n",
       "      <td>NaN</td>\n",
       "      <td>NaN</td>\n",
       "      <td>F</td>\n",
       "      <td>F</td>\n",
       "      <td>T</td>\n",
       "      <td>F</td>\n",
       "      <td>mobile</td>\n",
       "      <td>SM-G955U Build/R16NW</td>\n",
       "    </tr>\n",
       "    <tr>\n",
       "      <th>144232</th>\n",
       "      <td>3183921</td>\n",
       "      <td>-5.0</td>\n",
       "      <td>550329.0</td>\n",
       "      <td>NaN</td>\n",
       "      <td>NaN</td>\n",
       "      <td>1.0</td>\n",
       "      <td>-6.0</td>\n",
       "      <td>NaN</td>\n",
       "      <td>NaN</td>\n",
       "      <td>NaN</td>\n",
       "      <td>...</td>\n",
       "      <td>chrome 63.0</td>\n",
       "      <td>NaN</td>\n",
       "      <td>NaN</td>\n",
       "      <td>NaN</td>\n",
       "      <td>F</td>\n",
       "      <td>F</td>\n",
       "      <td>T</td>\n",
       "      <td>F</td>\n",
       "      <td>desktop</td>\n",
       "      <td>NaN</td>\n",
       "    </tr>\n",
       "  </tbody>\n",
       "</table>\n",
       "<p>5 rows × 41 columns</p>\n",
       "</div>"
      ],
      "text/plain": [
       "        TransactionID  id_01     id_02  id_03  id_04  id_05  id_06  id_07  \\\n",
       "144228        3265429  -20.0  177354.0    0.0    0.0    0.0   -5.0    NaN   \n",
       "144229        3374914   -5.0  108520.0    NaN    NaN    0.0   -8.0    NaN   \n",
       "144230        3052377    0.0   52022.0    NaN    NaN    0.0    0.0    NaN   \n",
       "144231        3456925  -15.0  395230.0    0.0    0.0    9.0  -30.0    NaN   \n",
       "144232        3183921   -5.0  550329.0    NaN    NaN    1.0   -6.0    NaN   \n",
       "\n",
       "        id_08  id_09  ...                    id_31  id_32     id_33  \\\n",
       "144228    NaN    0.0  ...  chrome 64.0 for android    NaN       NaN   \n",
       "144229    NaN    0.0  ...              chrome 64.0   24.0  1366x768   \n",
       "144230    NaN    NaN  ...             firefox 57.0   24.0  1366x768   \n",
       "144231    NaN    0.0  ...  chrome 65.0 for android    NaN       NaN   \n",
       "144232    NaN    NaN  ...              chrome 63.0    NaN       NaN   \n",
       "\n",
       "                 id_34  id_35 id_36 id_37  id_38  DeviceType  \\\n",
       "144228             NaN      F     F     T      F      mobile   \n",
       "144229  match_status:2      T     F     T      F     desktop   \n",
       "144230  match_status:2      T     T     T      T     desktop   \n",
       "144231             NaN      F     F     T      F      mobile   \n",
       "144232             NaN      F     F     T      F     desktop   \n",
       "\n",
       "                   DeviceInfo  \n",
       "144228  SM-G955F Build/NRD90M  \n",
       "144229                Windows  \n",
       "144230                Windows  \n",
       "144231   SM-G955U Build/R16NW  \n",
       "144232                    NaN  \n",
       "\n",
       "[5 rows x 41 columns]"
      ]
     },
     "execution_count": 3,
     "metadata": {},
     "output_type": "execute_result"
    }
   ],
   "source": [
    "df_train_transaction = pd.read_csv(\"train_transaction.csv\", low_memory=False)\n",
    "df_train_identity = pd.read_csv(\"train_identity.csv\", low_memory=False)\n",
    "    \n",
    "df_train_transaction = df_train_transaction.sample(frac=1).reset_index(drop=True)\n",
    "df_train_identity = df_train_identity.sample(frac=1).reset_index(drop=True)\n",
    "\n",
    "df_train_identity.tail()"
   ]
  },
  {
   "cell_type": "code",
   "execution_count": 4,
   "metadata": {},
   "outputs": [
    {
     "data": {
      "text/html": [
       "<div>\n",
       "<style scoped>\n",
       "    .dataframe tbody tr th:only-of-type {\n",
       "        vertical-align: middle;\n",
       "    }\n",
       "\n",
       "    .dataframe tbody tr th {\n",
       "        vertical-align: top;\n",
       "    }\n",
       "\n",
       "    .dataframe thead th {\n",
       "        text-align: right;\n",
       "    }\n",
       "</style>\n",
       "<table border=\"1\" class=\"dataframe\">\n",
       "  <thead>\n",
       "    <tr style=\"text-align: right;\">\n",
       "      <th></th>\n",
       "      <th>TransactionID</th>\n",
       "      <th>id_01</th>\n",
       "      <th>id_02</th>\n",
       "      <th>id_03</th>\n",
       "      <th>id_04</th>\n",
       "      <th>id_05</th>\n",
       "      <th>id_06</th>\n",
       "      <th>id_07</th>\n",
       "      <th>id_08</th>\n",
       "      <th>id_09</th>\n",
       "      <th>...</th>\n",
       "      <th>id_31</th>\n",
       "      <th>id_32</th>\n",
       "      <th>id_33</th>\n",
       "      <th>id_34</th>\n",
       "      <th>id_35</th>\n",
       "      <th>id_36</th>\n",
       "      <th>id_37</th>\n",
       "      <th>id_38</th>\n",
       "      <th>DeviceType</th>\n",
       "      <th>DeviceInfo</th>\n",
       "    </tr>\n",
       "  </thead>\n",
       "  <tbody>\n",
       "    <tr>\n",
       "      <th>141902</th>\n",
       "      <td>3900169</td>\n",
       "      <td>-20.0</td>\n",
       "      <td>207890.0</td>\n",
       "      <td>0.0</td>\n",
       "      <td>0.0</td>\n",
       "      <td>0.0</td>\n",
       "      <td>0.0</td>\n",
       "      <td>NaN</td>\n",
       "      <td>NaN</td>\n",
       "      <td>0.0</td>\n",
       "      <td>...</td>\n",
       "      <td>chrome 69.0 for android</td>\n",
       "      <td>NaN</td>\n",
       "      <td>NaN</td>\n",
       "      <td>NaN</td>\n",
       "      <td>F</td>\n",
       "      <td>F</td>\n",
       "      <td>T</td>\n",
       "      <td>F</td>\n",
       "      <td>mobile</td>\n",
       "      <td>SM-J700M Build/MMB29K</td>\n",
       "    </tr>\n",
       "    <tr>\n",
       "      <th>141903</th>\n",
       "      <td>4096254</td>\n",
       "      <td>-15.0</td>\n",
       "      <td>NaN</td>\n",
       "      <td>NaN</td>\n",
       "      <td>NaN</td>\n",
       "      <td>NaN</td>\n",
       "      <td>NaN</td>\n",
       "      <td>NaN</td>\n",
       "      <td>NaN</td>\n",
       "      <td>NaN</td>\n",
       "      <td>...</td>\n",
       "      <td>NaN</td>\n",
       "      <td>NaN</td>\n",
       "      <td>NaN</td>\n",
       "      <td>NaN</td>\n",
       "      <td>NaN</td>\n",
       "      <td>NaN</td>\n",
       "      <td>NaN</td>\n",
       "      <td>NaN</td>\n",
       "      <td>NaN</td>\n",
       "      <td>NaN</td>\n",
       "    </tr>\n",
       "    <tr>\n",
       "      <th>141904</th>\n",
       "      <td>3718434</td>\n",
       "      <td>-5.0</td>\n",
       "      <td>116074.0</td>\n",
       "      <td>NaN</td>\n",
       "      <td>NaN</td>\n",
       "      <td>0.0</td>\n",
       "      <td>0.0</td>\n",
       "      <td>NaN</td>\n",
       "      <td>NaN</td>\n",
       "      <td>NaN</td>\n",
       "      <td>...</td>\n",
       "      <td>mobile safari 11.0</td>\n",
       "      <td>32.0</td>\n",
       "      <td>1334x750</td>\n",
       "      <td>match_status:2</td>\n",
       "      <td>T</td>\n",
       "      <td>F</td>\n",
       "      <td>F</td>\n",
       "      <td>F</td>\n",
       "      <td>mobile</td>\n",
       "      <td>iOS Device</td>\n",
       "    </tr>\n",
       "    <tr>\n",
       "      <th>141905</th>\n",
       "      <td>3974010</td>\n",
       "      <td>-25.0</td>\n",
       "      <td>434079.0</td>\n",
       "      <td>NaN</td>\n",
       "      <td>NaN</td>\n",
       "      <td>0.0</td>\n",
       "      <td>0.0</td>\n",
       "      <td>NaN</td>\n",
       "      <td>NaN</td>\n",
       "      <td>NaN</td>\n",
       "      <td>...</td>\n",
       "      <td>mobile safari 11.0</td>\n",
       "      <td>NaN</td>\n",
       "      <td>NaN</td>\n",
       "      <td>NaN</td>\n",
       "      <td>F</td>\n",
       "      <td>F</td>\n",
       "      <td>F</td>\n",
       "      <td>F</td>\n",
       "      <td>mobile</td>\n",
       "      <td>NaN</td>\n",
       "    </tr>\n",
       "    <tr>\n",
       "      <th>141906</th>\n",
       "      <td>3820823</td>\n",
       "      <td>-5.0</td>\n",
       "      <td>97320.0</td>\n",
       "      <td>NaN</td>\n",
       "      <td>NaN</td>\n",
       "      <td>0.0</td>\n",
       "      <td>0.0</td>\n",
       "      <td>NaN</td>\n",
       "      <td>NaN</td>\n",
       "      <td>NaN</td>\n",
       "      <td>...</td>\n",
       "      <td>mobile safari 11.0</td>\n",
       "      <td>32.0</td>\n",
       "      <td>1334x750</td>\n",
       "      <td>match_status:2</td>\n",
       "      <td>T</td>\n",
       "      <td>F</td>\n",
       "      <td>F</td>\n",
       "      <td>F</td>\n",
       "      <td>mobile</td>\n",
       "      <td>iOS Device</td>\n",
       "    </tr>\n",
       "  </tbody>\n",
       "</table>\n",
       "<p>5 rows × 41 columns</p>\n",
       "</div>"
      ],
      "text/plain": [
       "        TransactionID  id_01     id_02  id_03  id_04  id_05  id_06  id_07  \\\n",
       "141902        3900169  -20.0  207890.0    0.0    0.0    0.0    0.0    NaN   \n",
       "141903        4096254  -15.0       NaN    NaN    NaN    NaN    NaN    NaN   \n",
       "141904        3718434   -5.0  116074.0    NaN    NaN    0.0    0.0    NaN   \n",
       "141905        3974010  -25.0  434079.0    NaN    NaN    0.0    0.0    NaN   \n",
       "141906        3820823   -5.0   97320.0    NaN    NaN    0.0    0.0    NaN   \n",
       "\n",
       "        id_08  id_09  ...                    id_31  id_32     id_33  \\\n",
       "141902    NaN    0.0  ...  chrome 69.0 for android    NaN       NaN   \n",
       "141903    NaN    NaN  ...                      NaN    NaN       NaN   \n",
       "141904    NaN    NaN  ...       mobile safari 11.0   32.0  1334x750   \n",
       "141905    NaN    NaN  ...       mobile safari 11.0    NaN       NaN   \n",
       "141906    NaN    NaN  ...       mobile safari 11.0   32.0  1334x750   \n",
       "\n",
       "                 id_34  id_35 id_36 id_37  id_38  DeviceType  \\\n",
       "141902             NaN      F     F     T      F      mobile   \n",
       "141903             NaN    NaN   NaN   NaN    NaN         NaN   \n",
       "141904  match_status:2      T     F     F      F      mobile   \n",
       "141905             NaN      F     F     F      F      mobile   \n",
       "141906  match_status:2      T     F     F      F      mobile   \n",
       "\n",
       "                   DeviceInfo  \n",
       "141902  SM-J700M Build/MMB29K  \n",
       "141903                    NaN  \n",
       "141904             iOS Device  \n",
       "141905                    NaN  \n",
       "141906             iOS Device  \n",
       "\n",
       "[5 rows x 41 columns]"
      ]
     },
     "execution_count": 4,
     "metadata": {},
     "output_type": "execute_result"
    }
   ],
   "source": [
    "df_test_transaction = pd.read_csv(\"test_transaction.csv\", low_memory=False)\n",
    "df_test_identity = pd.read_csv(\"test_identity.csv\", low_memory=False)\n",
    "    \n",
    "df_test_transaction = df_test_transaction.sample(frac=1).reset_index(drop=True)\n",
    "df_test_identity = df_test_identity.sample(frac=1).reset_index(drop=True)\n",
    "\n",
    "df_test_identity.tail()"
   ]
  },
  {
   "cell_type": "markdown",
   "metadata": {},
   "source": [
    "## Tables Merging"
   ]
  },
  {
   "cell_type": "code",
   "execution_count": 5,
   "metadata": {},
   "outputs": [
    {
     "name": "stdout",
     "output_type": "stream",
     "text": [
      "(590540, 434)\n",
      "(506691, 433)\n"
     ]
    }
   ],
   "source": [
    "df_train = pd.merge(df_train_transaction, df_train_identity, on='TransactionID', how='left')\n",
    "df_test = pd.merge(df_test_transaction, df_test_identity, on='TransactionID', how='left')\n",
    "\n",
    "print(df_train.shape)\n",
    "print(df_test.shape)"
   ]
  },
  {
   "cell_type": "markdown",
   "metadata": {},
   "source": [
    "At this point we conclude that are are MANY features representing our data. Let's investigate how many have NaN values assigned."
   ]
  },
  {
   "cell_type": "code",
   "execution_count": 6,
   "metadata": {},
   "outputs": [
    {
     "data": {
      "text/plain": [
       "<matplotlib.axes._subplots.AxesSubplot at 0x1d2c143f358>"
      ]
     },
     "execution_count": 6,
     "metadata": {},
     "output_type": "execute_result"
    },
    {
     "data": {
      "image/png": "[encoded data removed]",
      "text/plain": [
       "<Figure size 1728x720 with 2 Axes>"
      ]
     },
     "metadata": {
      "needs_background": "light"
     },
     "output_type": "display_data"
    }
   ],
   "source": [
    "msno.bar(df_train)"
   ]
  },
  {
   "cell_type": "markdown",
   "metadata": {},
   "source": [
    "In this chart, the maximum value (1) represents that all samples are assigned with a value. Therefore, we see that there are many features with null values associated. Let's remove them and then, assign the median for the rest of the NaN values."
   ]
  },
  {
   "cell_type": "markdown",
   "metadata": {},
   "source": [
    "## Missing Values Handling\n",
    "\n",
    "Let's find the rate of NaN values in each feature and then remove it if the rate is higher than 20%."
   ]
  },
  {
   "cell_type": "code",
   "execution_count": 7,
   "metadata": {},
   "outputs": [],
   "source": [
    "train_missing = df_train.isnull().sum() / len(df_train)\n",
    "df_train_missing = pd.DataFrame({'column_name': df_train.columns,\n",
    "                                 'missing_percent': train_missing})"
   ]
  },
  {
   "cell_type": "markdown",
   "metadata": {},
   "source": [
    "Now that we have all the features NaN rate, let's print them if the rate is above 20%."
   ]
  },
  {
   "cell_type": "code",
   "execution_count": 8,
   "metadata": {},
   "outputs": [
    {
     "data": {
      "text/plain": [
       "array(['dist1', 'dist2', 'R_emaildomain', 'D2', 'D3', 'D4', 'D5', 'D6',\n",
       "       'D7', 'D8', 'D9', 'D11', 'D12', 'D13', 'D14', 'M1', 'M2', 'M3',\n",
       "       'M4', 'M5', 'M6', 'M7', 'M8', 'M9', 'V1', 'V2', 'V3', 'V4', 'V5',\n",
       "       'V6', 'V7', 'V8', 'V9', 'V10', 'V11', 'V35', 'V36', 'V37', 'V38',\n",
       "       'V39', 'V40', 'V41', 'V42', 'V43', 'V44', 'V45', 'V46', 'V47',\n",
       "       'V48', 'V49', 'V50', 'V51', 'V52', 'V138', 'V139', 'V140', 'V141',\n",
       "       'V142', 'V143', 'V144', 'V145', 'V146', 'V147', 'V148', 'V149',\n",
       "       'V150', 'V151', 'V152', 'V153', 'V154', 'V155', 'V156', 'V157',\n",
       "       'V158', 'V159', 'V160', 'V161', 'V162', 'V163', 'V164', 'V165',\n",
       "       'V166', 'V167', 'V168', 'V169', 'V170', 'V171', 'V172', 'V173',\n",
       "       'V174', 'V175', 'V176', 'V177', 'V178', 'V179', 'V180', 'V181',\n",
       "       'V182', 'V183', 'V184', 'V185', 'V186', 'V187', 'V188', 'V189',\n",
       "       'V190', 'V191', 'V192', 'V193', 'V194', 'V195', 'V196', 'V197',\n",
       "       'V198', 'V199', 'V200', 'V201', 'V202', 'V203', 'V204', 'V205',\n",
       "       'V206', 'V207', 'V208', 'V209', 'V210', 'V211', 'V212', 'V213',\n",
       "       'V214', 'V215', 'V216', 'V217', 'V218', 'V219', 'V220', 'V221',\n",
       "       'V222', 'V223', 'V224', 'V225', 'V226', 'V227', 'V228', 'V229',\n",
       "       'V230', 'V231', 'V232', 'V233', 'V234', 'V235', 'V236', 'V237',\n",
       "       'V238', 'V239', 'V240', 'V241', 'V242', 'V243', 'V244', 'V245',\n",
       "       'V246', 'V247', 'V248', 'V249', 'V250', 'V251', 'V252', 'V253',\n",
       "       'V254', 'V255', 'V256', 'V257', 'V258', 'V259', 'V260', 'V261',\n",
       "       'V262', 'V263', 'V264', 'V265', 'V266', 'V267', 'V268', 'V269',\n",
       "       'V270', 'V271', 'V272', 'V273', 'V274', 'V275', 'V276', 'V277',\n",
       "       'V278', 'V322', 'V323', 'V324', 'V325', 'V326', 'V327', 'V328',\n",
       "       'V329', 'V330', 'V331', 'V332', 'V333', 'V334', 'V335', 'V336',\n",
       "       'V337', 'V338', 'V339', 'id_01', 'id_02', 'id_03', 'id_04',\n",
       "       'id_05', 'id_06', 'id_07', 'id_08', 'id_09', 'id_10', 'id_11',\n",
       "       'id_12', 'id_13', 'id_14', 'id_15', 'id_16', 'id_17', 'id_18',\n",
       "       'id_19', 'id_20', 'id_21', 'id_22', 'id_23', 'id_24', 'id_25',\n",
       "       'id_26', 'id_27', 'id_28', 'id_29', 'id_30', 'id_31', 'id_32',\n",
       "       'id_33', 'id_34', 'id_35', 'id_36', 'id_37', 'id_38', 'DeviceType',\n",
       "       'DeviceInfo'], dtype=object)"
      ]
     },
     "execution_count": 8,
     "metadata": {},
     "output_type": "execute_result"
    }
   ],
   "source": [
    "df_rm_features_train = df_train_missing[df_train_missing['missing_percent'] > 0.2]  \n",
    "rm_features_train = df_rm_features_train['column_name'].values\n",
    "rm_features_train"
   ]
  },
  {
   "cell_type": "markdown",
   "metadata": {},
   "source": [
    "And remove them from train and test dataset."
   ]
  },
  {
   "cell_type": "code",
   "execution_count": 9,
   "metadata": {},
   "outputs": [
    {
     "name": "stdout",
     "output_type": "stream",
     "text": [
      "Training data shape (590540, 182)\n",
      "Testing data shape (506691, 181)\n"
     ]
    }
   ],
   "source": [
    "df_train = df_train.drop(rm_features_train, axis=1)\n",
    "print('Training data shape', df_train.shape)\n",
    "\n",
    "df_test = df_test.drop(rm_features_train, axis=1)\n",
    "print('Testing data shape', df_test.shape)"
   ]
  },
  {
   "cell_type": "markdown",
   "metadata": {},
   "source": [
    "Let's check the results for the training and testing data, and check if there is still any unsatisfactory feature."
   ]
  },
  {
   "cell_type": "code",
   "execution_count": 10,
   "metadata": {},
   "outputs": [
    {
     "data": {
      "text/plain": [
       "<matplotlib.axes._subplots.AxesSubplot at 0x1d2c2591470>"
      ]
     },
     "execution_count": 10,
     "metadata": {},
     "output_type": "execute_result"
    },
    {
     "data": {
      "image/png": "[encoded data removed]",
      "text/plain": [
       "<Figure size 1728x720 with 2 Axes>"
      ]
     },
     "metadata": {
      "needs_background": "light"
     },
     "output_type": "display_data"
    }
   ],
   "source": [
    "msno.bar(df_train)"
   ]
  },
  {
   "cell_type": "code",
   "execution_count": 11,
   "metadata": {},
   "outputs": [
    {
     "data": {
      "text/plain": [
       "<matplotlib.axes._subplots.AxesSubplot at 0x1d2c16eeef0>"
      ]
     },
     "execution_count": 11,
     "metadata": {},
     "output_type": "execute_result"
    },
    {
     "data": {
      "image/png": "[encoded data removed]",
      "text/plain": [
       "<Figure size 1728x720 with 2 Axes>"
      ]
     },
     "metadata": {
      "needs_background": "light"
     },
     "output_type": "display_data"
    }
   ],
   "source": [
    "msno.bar(df_test)"
   ]
  },
  {
   "cell_type": "markdown",
   "metadata": {},
   "source": [
    "Seems like most of the missing were removed. Now, let's insert the median of each feature for the rest of NaN values present on the data.\n",
    "\n",
    "However, it is important to notice that **not** every features is numerical. Let's guarantee every feature is numerical and not categorical."
   ]
  },
  {
   "cell_type": "code",
   "execution_count": 12,
   "metadata": {},
   "outputs": [
    {
     "name": "stdout",
     "output_type": "stream",
     "text": [
      "TRAINING SET Numerical Features:  [0, 1, 2, 3, 5, 6, 7, 9, 11, 12, 14, 15, 16, 17, 18, 19, 20, 21, 22, 23, 24, 25, 26, 27, 28, 29, 30, 31, 32, 33, 34, 35, 36, 37, 38, 39, 40, 41, 42, 43, 44, 45, 46, 47, 48, 49, 50, 51, 52, 53, 54, 55, 56, 57, 58, 59, 60, 61, 62, 63, 64, 65, 66, 67, 68, 69, 70, 71, 72, 73, 74, 75, 76, 77, 78, 79, 80, 81, 82, 83, 84, 85, 86, 87, 88, 89, 90, 91, 92, 93, 94, 95, 96, 97, 98, 99, 100, 101, 102, 103, 104, 105, 106, 107, 108, 109, 110, 111, 112, 113, 114, 115, 116, 117, 118, 119, 120, 121, 122, 123, 124, 125, 126, 127, 128, 129, 130, 131, 132, 133, 134, 135, 136, 137, 138, 139, 140, 141, 142, 143, 144, 145, 146, 147, 148, 149, 150, 151, 152, 153, 154, 155, 156, 157, 158, 159, 160, 161, 162, 163, 164, 165, 166, 167, 168, 169, 170, 171, 172, 173, 174, 175, 176, 177, 178, 179, 180, 181]\n",
      "TRAINING SET Categorical Features:  [4, 8, 10, 13]\n"
     ]
    },
    {
     "data": {
      "text/plain": [
       "<matplotlib.axes._subplots.AxesSubplot at 0x1d2c2c6e780>"
      ]
     },
     "execution_count": 12,
     "metadata": {},
     "output_type": "execute_result"
    },
    {
     "data": {
      "image/png": "[encoded data removed]",
      "text/plain": [
       "<Figure size 1728x720 with 2 Axes>"
      ]
     },
     "metadata": {
      "needs_background": "light"
     },
     "output_type": "display_data"
    }
   ],
   "source": [
    "train_types = df_train.dtypes.values\n",
    "numericalFeaturesIndex = []\n",
    "categoricalFeaturesIndex = []\n",
    "\n",
    "n = 0\n",
    "c = 0\n",
    "\n",
    "for featureType in train_types:\n",
    "    if featureType == 'int64' or featureType == 'float64':\n",
    "        numericalFeaturesIndex.append(n)\n",
    "        df_train.iloc[:, n] = df_train.iloc[:, n].fillna(df_train.iloc[:, n].median())\n",
    "    else:\n",
    "        categoricalFeaturesIndex.append(c)\n",
    "        df_train.iloc[:, c] = df_train.iloc[:, c].fillna(df_train.iloc[:, c].mode().item())\n",
    "    \n",
    "    n = n + 1\n",
    "    c = c + 1\n",
    "\n",
    "print('TRAINING SET Numerical Features: ', numericalFeaturesIndex)\n",
    "print('TRAINING SET Categorical Features: ', categoricalFeaturesIndex)\n",
    "    \n",
    "msno.bar(df_train)"
   ]
  },
  {
   "cell_type": "code",
   "execution_count": 13,
   "metadata": {},
   "outputs": [
    {
     "name": "stdout",
     "output_type": "stream",
     "text": [
      "TESTING SET Numerical Features:  [0, 1, 2, 4, 5, 6, 8, 10, 11, 13, 14, 15, 16, 17, 18, 19, 20, 21, 22, 23, 24, 25, 26, 27, 28, 29, 30, 31, 32, 33, 34, 35, 36, 37, 38, 39, 40, 41, 42, 43, 44, 45, 46, 47, 48, 49, 50, 51, 52, 53, 54, 55, 56, 57, 58, 59, 60, 61, 62, 63, 64, 65, 66, 67, 68, 69, 70, 71, 72, 73, 74, 75, 76, 77, 78, 79, 80, 81, 82, 83, 84, 85, 86, 87, 88, 89, 90, 91, 92, 93, 94, 95, 96, 97, 98, 99, 100, 101, 102, 103, 104, 105, 106, 107, 108, 109, 110, 111, 112, 113, 114, 115, 116, 117, 118, 119, 120, 121, 122, 123, 124, 125, 126, 127, 128, 129, 130, 131, 132, 133, 134, 135, 136, 137, 138, 139, 140, 141, 142, 143, 144, 145, 146, 147, 148, 149, 150, 151, 152, 153, 154, 155, 156, 157, 158, 159, 160, 161, 162, 163, 164, 165, 166, 167, 168, 169, 170, 171, 172, 173, 174, 175, 176, 177, 178, 179, 180]\n",
      "TESTING SET Categorical Features:  [3, 7, 9, 12]\n"
     ]
    },
    {
     "data": {
      "text/plain": [
       "<matplotlib.axes._subplots.AxesSubplot at 0x1d2c58312e8>"
      ]
     },
     "execution_count": 13,
     "metadata": {},
     "output_type": "execute_result"
    },
    {
     "data": {
      "image/png": "[encoded data removed]",
      "text/plain": [
       "<Figure size 1728x720 with 2 Axes>"
      ]
     },
     "metadata": {
      "needs_background": "light"
     },
     "output_type": "display_data"
    }
   ],
   "source": [
    "test_types = df_test.dtypes.values\n",
    "numericalFeaturesIndex = []\n",
    "categoricalFeaturesIndex = []\n",
    "\n",
    "n = 0\n",
    "c = 0\n",
    "\n",
    "for featureType in test_types:\n",
    "    if featureType == 'int64' or featureType == 'float64':\n",
    "        numericalFeaturesIndex.append(n)\n",
    "        df_test.iloc[:, n] = df_test.iloc[:, n].fillna(df_test.iloc[:, n].median())\n",
    "    else:\n",
    "        categoricalFeaturesIndex.append(c)\n",
    "        df_test.iloc[:, c] = df_test.iloc[:, c].fillna(df_test.iloc[:, c].mode().item())\n",
    "    \n",
    "    n = n + 1\n",
    "    c = c + 1\n",
    "\n",
    "print('TESTING SET Numerical Features: ', numericalFeaturesIndex)\n",
    "print('TESTING SET Categorical Features: ', categoricalFeaturesIndex)\n",
    "\n",
    "msno.bar(df_train)"
   ]
  },
  {
   "cell_type": "code",
   "execution_count": 14,
   "metadata": {},
   "outputs": [],
   "source": [
    "y_train = df_train['isFraud'].values\n",
    "df_train_numerical = df_train[df_train.columns.difference(['isFraud', 'TransactionID', 'TransactionDT', 'ProductCD', 'card4', 'card6', 'P_emaildomain'])]\n",
    "df_train_categorical = df_train[['ProductCD', 'card4', 'card6', 'P_emaildomain']]\n",
    "\n",
    "df_test_numerical = df_test[df_test.columns.difference(['TransactionID', 'TransactionDT', 'ProductCD', 'card4', 'card6', 'P_emaildomain'])]\n",
    "df_test_categorical = df_test[['ProductCD', 'card4', 'card6', 'P_emaildomain']]"
   ]
  },
  {
   "cell_type": "markdown",
   "metadata": {},
   "source": [
    "One-Hot-Enconding for categorical features.\n",
    "\n",
    "Scaling + PCA for numerical features."
   ]
  },
  {
   "cell_type": "code",
   "execution_count": 15,
   "metadata": {},
   "outputs": [
    {
     "name": "stdout",
     "output_type": "stream",
     "text": [
      "df_train_categorical: (590540, 72)\n",
      "df_test_categorical: (506691, 72)\n"
     ]
    }
   ],
   "source": [
    "# One-Hot-Encoding\n",
    "df_train_categorical = pd.get_dummies(df_train_categorical, prefix=['ProductCD', 'card4', 'card6', 'P_emaildomain'])\n",
    "print('df_train_categorical:', df_train_categorical.shape)\n",
    "\n",
    "df_test_categorical = pd.get_dummies(df_test_categorical, prefix=['ProductCD', 'card4', 'card6', 'P_emaildomain'])\n",
    "print('df_test_categorical:', df_test_categorical.shape)"
   ]
  },
  {
   "cell_type": "code",
   "execution_count": 16,
   "metadata": {},
   "outputs": [],
   "source": [
    "# Feature Scaling\n",
    "X_train_numerical = preprocessing.scale(df_train_numerical)\n",
    "\n",
    "X_test_numerical = preprocessing.scale(df_test_numerical)"
   ]
  },
  {
   "cell_type": "code",
   "execution_count": 17,
   "metadata": {
    "scrolled": true
   },
   "outputs": [
    {
     "name": "stdout",
     "output_type": "stream",
     "text": [
      "X_train: (590540, 247)\n",
      "X_test: (506691, 247)\n"
     ]
    }
   ],
   "source": [
    "# Append tables to a single numpy array\n",
    "X_train = np.concatenate((X_train_numerical, df_train_categorical.values), axis=1)\n",
    "\n",
    "X_test = np.concatenate((X_test_numerical, df_test_categorical.values), axis=1)\n",
    "\n",
    "print('X_train:', X_train.shape)\n",
    "print('X_test:', X_test.shape)"
   ]
  },
  {
   "cell_type": "markdown",
   "metadata": {},
   "source": [
    "## Logistic Regression Approach"
   ]
  },
  {
   "cell_type": "code",
   "execution_count": 18,
   "metadata": {},
   "outputs": [
    {
     "name": "stdout",
     "output_type": "stream",
     "text": [
      "X_train rows: 413378\n",
      "y_train rows: {0: 398914, 1: 14464}\n",
      "X_val rows: 177162\n",
      "y_val rows: {0: 170963, 1: 6199}\n"
     ]
    }
   ],
   "source": [
    "X_train, X_val, y_train, y_val = train_test_split(X_train, y_train, stratify=y_train, test_size=0.3, random_state=42)\n",
    "\n",
    "unique, counts = np.unique(y_train, return_counts=True)\n",
    "print('X_train rows:', X_train.shape[0])\n",
    "print('y_train rows:', dict(zip(unique, counts)))\n",
    "\n",
    "unique, counts = np.unique(y_val, return_counts=True)\n",
    "print('X_val rows:', X_val.shape[0])\n",
    "print('y_val rows:', dict(zip(unique, counts)))"
   ]
  },
  {
   "cell_type": "code",
   "execution_count": 19,
   "metadata": {},
   "outputs": [
    {
     "name": "stderr",
     "output_type": "stream",
     "text": [
      "C:\\ProgramData\\Anaconda3\\lib\\site-packages\\sklearn\\linear_model\\logistic.py:432: FutureWarning: Default solver will be changed to 'lbfgs' in 0.22. Specify a solver to silence this warning.\n",
      "  FutureWarning)\n"
     ]
    },
    {
     "name": "stdout",
     "output_type": "stream",
     "text": [
      "Score: 0.9683792235355212\n"
     ]
    }
   ],
   "source": [
    "logistic = linear_model.LogisticRegression(C=1e5)\n",
    "logistic.fit(X_train, y_train)\n",
    "print('Score:', logistic.score(X_val, y_val))"
   ]
  },
  {
   "cell_type": "code",
   "execution_count": 20,
   "metadata": {},
   "outputs": [
    {
     "name": "stdout",
     "output_type": "stream",
     "text": [
      "[0 0 0 ... 0 0 0]\n"
     ]
    }
   ],
   "source": [
    "y_predicted = np.array(logistic.predict(X_test))\n",
    "print(y_predicted)"
   ]
  },
  {
   "cell_type": "code",
   "execution_count": 21,
   "metadata": {},
   "outputs": [
    {
     "data": {
      "text/plain": [
       "{0: 459921, 1: 46770}"
      ]
     },
     "execution_count": 21,
     "metadata": {},
     "output_type": "execute_result"
    }
   ],
   "source": [
    "df_submit = pd.DataFrame({'TransactionID': df_test['TransactionID'], 'isFraud': y_predicted.reshape(-1)})\n",
    "unique, counts = np.unique(df_submit['isFraud'], return_counts=True)\n",
    "dict(zip(unique, counts))"
   ]
  },
  {
   "cell_type": "code",
   "execution_count": 22,
   "metadata": {},
   "outputs": [],
   "source": [
    "# df_submit.to_csv(r'ml_submission.csv', index=False)"
   ]
  },
  {
   "cell_type": "markdown",
   "metadata": {},
   "source": [
    "## Deep Learning Approach"
   ]
  },
  {
   "cell_type": "code",
   "execution_count": 50,
   "metadata": {},
   "outputs": [],
   "source": [
    "model = Sequential()\n",
    "\n",
    "model.add(Dense(units=256, activation='relu', input_dim=X_train.shape[1]))\n",
    "model.add(Dense(units=256, activation='relu'))\n",
    "model.add(Dense(units=1, activation='sigmoid'))\n",
    "\n",
    "# sgd = optimizers.SGD(lr=0.01, decay=1e-6, momentum=0.9, nesterov=True)\n",
    "adam = optimizers.Adam(lr=0.01, beta_1=0.9, beta_2=0.999, epsilon=None, decay=0.0, amsgrad=False)\n",
    "\n",
    "model.compile(loss='binary_crossentropy', optimizer=adam, metrics=['accuracy'])"
   ]
  },
  {
   "cell_type": "code",
   "execution_count": 51,
   "metadata": {},
   "outputs": [],
   "source": [
    "# model.compile(loss='binary_crossentropy',\n",
    "#               optimizer='sgd',\n",
    "#               metrics=['accuracy'])"
   ]
  },
  {
   "cell_type": "code",
   "execution_count": 52,
   "metadata": {},
   "outputs": [
    {
     "name": "stdout",
     "output_type": "stream",
     "text": [
      "Train on 413378 samples, validate on 177162 samples\n",
      "Epoch 1/50\n",
      "413378/413378 [==============================] - 22s 54us/step - loss: 1.7954 - acc: 0.4179 - val_loss: 1.2447 - val_acc: 0.6898\n",
      "Epoch 2/50\n",
      "413378/413378 [==============================] - 9s 21us/step - loss: 0.7777 - acc: 0.7667 - val_loss: 0.2969 - val_acc: 0.9582\n",
      "Epoch 3/50\n",
      "413378/413378 [==============================] - 8s 20us/step - loss: 0.6167 - acc: 0.8918 - val_loss: 0.6590 - val_acc: 0.6890\n",
      "Epoch 4/50\n",
      "413378/413378 [==============================] - 9s 22us/step - loss: 0.5765 - acc: 0.6576 - val_loss: 0.6590 - val_acc: 0.6086\n",
      "Epoch 5/50\n",
      "413378/413378 [==============================] - 11s 27us/step - loss: 0.5620 - acc: 0.6133 - val_loss: 0.5591 - val_acc: 0.6595\n",
      "Epoch 6/50\n",
      "413378/413378 [==============================] - 10s 25us/step - loss: 0.5428 - acc: 0.6671 - val_loss: 0.5107 - val_acc: 0.7011\n",
      "Epoch 7/50\n",
      "413378/413378 [==============================] - 8s 19us/step - loss: 0.5293 - acc: 0.7070 - val_loss: 0.4792 - val_acc: 0.7285\n",
      "Epoch 8/50\n",
      "413378/413378 [==============================] - 8s 19us/step - loss: 0.5233 - acc: 0.7320 - val_loss: 0.4647 - val_acc: 0.7432\n",
      "Epoch 9/50\n",
      "413378/413378 [==============================] - 9s 21us/step - loss: 0.5144 - acc: 0.7389 - val_loss: 0.5306 - val_acc: 0.7141\n",
      "Epoch 10/50\n",
      "413378/413378 [==============================] - 12s 28us/step - loss: 0.5067 - acc: 0.7136 - val_loss: 0.5217 - val_acc: 0.7377\n",
      "Epoch 11/50\n",
      "413378/413378 [==============================] - 12s 28us/step - loss: 0.5018 - acc: 0.7488 - val_loss: 0.4959 - val_acc: 0.7578\n",
      "Epoch 12/50\n",
      "413378/413378 [==============================] - 13s 32us/step - loss: 0.4947 - acc: 0.7591 - val_loss: 0.4600 - val_acc: 0.7759\n",
      "Epoch 13/50\n",
      "413378/413378 [==============================] - 13s 31us/step - loss: 0.4900 - acc: 0.7781 - val_loss: 0.4872 - val_acc: 0.7607\n",
      "Epoch 14/50\n",
      "413378/413378 [==============================] - 12s 30us/step - loss: 0.4851 - acc: 0.7613 - val_loss: 0.4794 - val_acc: 0.7735\n",
      "Epoch 15/50\n",
      "413378/413378 [==============================] - 15s 35us/step - loss: 0.4803 - acc: 0.7798 - val_loss: 0.4594 - val_acc: 0.7881\n",
      "Epoch 16/50\n",
      "413378/413378 [==============================] - 17s 42us/step - loss: 0.4764 - acc: 0.7849 - val_loss: 0.4742 - val_acc: 0.7751\n",
      "Epoch 17/50\n",
      "413378/413378 [==============================] - 15s 37us/step - loss: 0.4727 - acc: 0.7783 - val_loss: 0.4691 - val_acc: 0.7792\n",
      "Epoch 18/50\n",
      "413378/413378 [==============================] - 14s 34us/step - loss: 0.4694 - acc: 0.7868 - val_loss: 0.4368 - val_acc: 0.8046\n",
      "Epoch 19/50\n",
      "413378/413378 [==============================] - 13s 32us/step - loss: 0.4667 - acc: 0.7908 - val_loss: 0.4582 - val_acc: 0.7940\n",
      "Epoch 20/50\n",
      "413378/413378 [==============================] - 14s 35us/step - loss: 0.4623 - acc: 0.8007 - val_loss: 0.4344 - val_acc: 0.8111\n",
      "Epoch 21/50\n",
      "413378/413378 [==============================] - 11s 27us/step - loss: 0.4587 - acc: 0.8132 - val_loss: 0.4313 - val_acc: 0.8120\n",
      "Epoch 22/50\n",
      "413378/413378 [==============================] - 10s 24us/step - loss: 0.4558 - acc: 0.8022 - val_loss: 0.4537 - val_acc: 0.7894\n",
      "Epoch 23/50\n",
      "413378/413378 [==============================] - 10s 25us/step - loss: 0.4535 - acc: 0.8023 - val_loss: 0.4447 - val_acc: 0.8024\n",
      "Epoch 24/50\n",
      "413378/413378 [==============================] - 10s 24us/step - loss: 0.4493 - acc: 0.8148 - val_loss: 0.4807 - val_acc: 0.7816\n",
      "Epoch 25/50\n",
      "413378/413378 [==============================] - 10s 24us/step - loss: 0.4474 - acc: 0.7957 - val_loss: 0.4128 - val_acc: 0.8222\n",
      "Epoch 26/50\n",
      "413378/413378 [==============================] - 11s 26us/step - loss: 0.4427 - acc: 0.8147 - val_loss: 0.3771 - val_acc: 0.8495\n",
      "Epoch 27/50\n",
      "413378/413378 [==============================] - 10s 24us/step - loss: 0.4421 - acc: 0.8276 - val_loss: 0.3909 - val_acc: 0.8398\n",
      "Epoch 28/50\n",
      "413378/413378 [==============================] - 10s 24us/step - loss: 0.4369 - acc: 0.8322 - val_loss: 0.4116 - val_acc: 0.8237\n",
      "Epoch 29/50\n",
      "413378/413378 [==============================] - 10s 24us/step - loss: 0.4320 - acc: 0.8295 - val_loss: 0.4052 - val_acc: 0.8274\n",
      "Epoch 30/50\n",
      "413378/413378 [==============================] - 9s 23us/step - loss: 0.4285 - acc: 0.8422 - val_loss: 0.4516 - val_acc: 0.7924\n",
      "Epoch 31/50\n",
      "413378/413378 [==============================] - 10s 23us/step - loss: 0.4245 - acc: 0.8118 - val_loss: 0.3902 - val_acc: 0.8349\n",
      "Epoch 32/50\n",
      "413378/413378 [==============================] - 10s 24us/step - loss: 0.4265 - acc: 0.8371 - val_loss: 0.4610 - val_acc: 0.7994\n",
      "Epoch 33/50\n",
      "413378/413378 [==============================] - 9s 22us/step - loss: 0.4203 - acc: 0.8232 - val_loss: 0.4766 - val_acc: 0.7976\n",
      "Epoch 34/50\n",
      "413378/413378 [==============================] - 10s 24us/step - loss: 0.4312 - acc: 0.7950 - val_loss: 0.3309 - val_acc: 0.8745\n",
      "Epoch 35/50\n",
      "413378/413378 [==============================] - 10s 25us/step - loss: 0.4198 - acc: 0.8465 - val_loss: 0.4557 - val_acc: 0.7983\n",
      "Epoch 36/50\n",
      "413378/413378 [==============================] - 10s 24us/step - loss: 0.4132 - acc: 0.8270 - val_loss: 0.3909 - val_acc: 0.8333\n",
      "Epoch 37/50\n",
      "413378/413378 [==============================] - 10s 24us/step - loss: 0.4093 - acc: 0.8219 - val_loss: 0.3693 - val_acc: 0.8504\n",
      "Epoch 38/50\n",
      "413378/413378 [==============================] - 10s 25us/step - loss: 0.4084 - acc: 0.8539 - val_loss: 0.4510 - val_acc: 0.7997\n",
      "Epoch 39/50\n",
      "413378/413378 [==============================] - 10s 23us/step - loss: 0.4049 - acc: 0.8178 - val_loss: 0.3557 - val_acc: 0.8490\n",
      "Epoch 40/50\n",
      "413378/413378 [==============================] - 11s 26us/step - loss: 0.4026 - acc: 0.8264 - val_loss: 0.3528 - val_acc: 0.8564\n",
      "Epoch 41/50\n",
      "413378/413378 [==============================] - 11s 26us/step - loss: 0.3956 - acc: 0.8589 - val_loss: 0.4366 - val_acc: 0.8135\n",
      "Epoch 42/50\n",
      "413378/413378 [==============================] - 12s 29us/step - loss: 0.3929 - acc: 0.8333 - val_loss: 0.3597 - val_acc: 0.8451\n",
      "Epoch 43/50\n",
      "413378/413378 [==============================] - 13s 31us/step - loss: 0.3909 - acc: 0.8297 - val_loss: 0.3177 - val_acc: 0.8843\n",
      "Epoch 44/50\n",
      "413378/413378 [==============================] - 14s 34us/step - loss: 0.3893 - acc: 0.8704 - val_loss: 0.3551 - val_acc: 0.8518\n",
      "Epoch 45/50\n",
      "413378/413378 [==============================] - 17s 41us/step - loss: 0.3846 - acc: 0.8628 - val_loss: 0.4037 - val_acc: 0.8327\n",
      "Epoch 46/50\n",
      "413378/413378 [==============================] - 14s 35us/step - loss: 0.3804 - acc: 0.8455 - val_loss: 0.3789 - val_acc: 0.8363\n",
      "Epoch 47/50\n",
      "413378/413378 [==============================] - 15s 37us/step - loss: 0.3765 - acc: 0.8415 - val_loss: 0.3351 - val_acc: 0.8630\n",
      "Epoch 48/50\n",
      "413378/413378 [==============================] - 15s 37us/step - loss: 0.3733 - acc: 0.8581 - val_loss: 0.3270 - val_acc: 0.8703\n",
      "Epoch 49/50\n",
      "413378/413378 [==============================] - 16s 39us/step - loss: 0.3691 - acc: 0.8663 - val_loss: 0.3675 - val_acc: 0.8430\n",
      "Epoch 50/50\n",
      "413378/413378 [==============================] - 12s 29us/step - loss: 0.3685 - acc: 0.8594 - val_loss: 0.4211 - val_acc: 0.8169\n"
     ]
    }
   ],
   "source": [
    "history = model.fit(X_train, y_train, epochs=50, batch_size=200000, sample_weight=class_weight.compute_sample_weight('balanced', y_train), validation_data=(X_val, y_val))"
   ]
  },
  {
   "cell_type": "code",
   "execution_count": 53,
   "metadata": {},
   "outputs": [
    {
     "data": {
      "image/png": "[encoded data removed]",
      "text/plain": [
       "<Figure size 432x288 with 1 Axes>"
      ]
     },
     "metadata": {
      "needs_background": "light"
     },
     "output_type": "display_data"
    },
    {
     "data": {
      "image/png": "[encoded data removed]",
      "text/plain": [
       "<Figure size 432x288 with 1 Axes>"
      ]
     },
     "metadata": {
      "needs_background": "light"
     },
     "output_type": "display_data"
    }
   ],
   "source": [
    "# Salva treinamento na variável history para visualização\n",
    "history_dict = history.history\n",
    "\n",
    "# Salva custos, métricas e epocas em vetores\n",
    "custo = history_dict['loss']\n",
    "acc = history_dict['acc']\n",
    "val_custo = history_dict['val_loss']\n",
    "val_acc = history_dict['val_acc']\n",
    "\n",
    "# Cria vetor de épocas\n",
    "epocas = range(1, len(custo) + 1)\n",
    "\n",
    "# Gráfico dos valores de custo\n",
    "plt.plot(epocas, custo, 'bo', label='Training Loss')\n",
    "plt.plot(epocas, val_custo, 'b', label='Validation Loss')\n",
    "plt.title('Loss Function – Training and Validation')\n",
    "plt.xlabel('Epochs')\n",
    "plt.ylabel('Loss')\n",
    "plt.legend()\n",
    "plt.show()\n",
    "\n",
    "# Gráfico dos valores da métrica\n",
    "plt.plot(epocas, acc, 'bo', label='Training Accuracy')\n",
    "plt.plot(epocas, val_acc, 'b', label='Validation Accuracy')\n",
    "plt.title('Metric – Training and Validation')\n",
    "plt.xlabel('Epochs')\n",
    "plt.ylabel('Accuracy')\n",
    "plt.legend()\n",
    "plt.show()"
   ]
  },
  {
   "cell_type": "code",
   "execution_count": 54,
   "metadata": {},
   "outputs": [
    {
     "name": "stdout",
     "output_type": "stream",
     "text": [
      "413378/413378 [==============================] - 17s 40us/step\n",
      "177162/177162 [==============================] - 7s 41us/step\n",
      "[0.4133708417069276, 0.8204645627004824]\n",
      "[0.421085245025073, 0.8169302672130593]\n"
     ]
    }
   ],
   "source": [
    "# Usando o método evaluate calcula o custo e a exatidão e depois apresenta os resultados\n",
    "loss_metrics_train = model.evaluate(X_train, y_train)\n",
    "loss_metrics_val = model.evaluate(X_val, y_val)\n",
    "print(loss_metrics_train)\n",
    "print(loss_metrics_val)"
   ]
  },
  {
   "cell_type": "code",
   "execution_count": 55,
   "metadata": {},
   "outputs": [],
   "source": [
    "y_pred = model.predict_classes(X_test, batch_size=200000, verbose=0)"
   ]
  },
  {
   "cell_type": "code",
   "execution_count": 56,
   "metadata": {},
   "outputs": [
    {
     "data": {
      "text/plain": [
       "{0: 445945, 1: 60746}"
      ]
     },
     "execution_count": 56,
     "metadata": {},
     "output_type": "execute_result"
    }
   ],
   "source": [
    "df_submit = pd.DataFrame({'TransactionID': df_test['TransactionID'], 'isFraud': y_pred.reshape(-1)})\n",
    "unique, counts = np.unique(df_submit['isFraud'], return_counts=True)\n",
    "dict(zip(unique, counts))"
   ]
  },
  {
   "cell_type": "code",
   "execution_count": 57,
   "metadata": {},
   "outputs": [],
   "source": [
    "# df_submit.to_csv(r'submission.csv', index=False)"
   ]
  },
  {
   "cell_type": "code",
   "execution_count": 58,
   "metadata": {},
   "outputs": [],
   "source": [
    "y_val_cat_prob=model.predict_proba(X_val)"
   ]
  },
  {
   "cell_type": "code",
   "execution_count": 59,
   "metadata": {},
   "outputs": [],
   "source": [
    "fpr, tpr, thresholds = roc_curve(y_val, y_val_cat_prob)"
   ]
  },
  {
   "cell_type": "code",
   "execution_count": 60,
   "metadata": {},
   "outputs": [
    {
     "data": {
      "image/png": "[encoded data removed]",
      "text/plain": [
       "<Figure size 432x288 with 1 Axes>"
      ]
     },
     "metadata": {
      "needs_background": "light"
     },
     "output_type": "display_data"
    }
   ],
   "source": [
    "def plot_roc_curve(fpr,tpr): \n",
    "  plt.plot(fpr,tpr) \n",
    "  plt.axis([0,1,0,1]) \n",
    "  plt.xlabel('False Positive Rate') \n",
    "  plt.ylabel('True Positive Rate') \n",
    "  plt.show()    \n",
    "  \n",
    "plot_roc_curve (fpr,tpr) "
   ]
  },
  {
   "cell_type": "code",
   "execution_count": 61,
   "metadata": {},
   "outputs": [
    {
     "data": {
      "text/plain": [
       "0.8955901378554634"
      ]
     },
     "execution_count": 61,
     "metadata": {},
     "output_type": "execute_result"
    }
   ],
   "source": [
    "roc_auc_score(y_val,y_val_cat_prob)"
   ]
  },
  {
   "cell_type": "code",
   "execution_count": null,
   "metadata": {},
   "outputs": [],
   "source": []
  }
 ],
 "metadata": {
  "kernelspec": {
   "display_name": "Python 3",
   "language": "python",
   "name": "python3"
  },
  "language_info": {
   "codemirror_mode": {
    "name": "ipython",
    "version": 3
   },
   "file_extension": ".py",
   "mimetype": "text/x-python",
   "name": "python",
   "nbconvert_exporter": "python",
   "pygments_lexer": "ipython3",
   "version": "3.7.3"
  }
 },
 "nbformat": 4,
 "nbformat_minor": 2
}
